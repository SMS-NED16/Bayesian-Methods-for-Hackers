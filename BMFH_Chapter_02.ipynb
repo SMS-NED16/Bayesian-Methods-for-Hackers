{
  "nbformat": 4,
  "nbformat_minor": 0,
  "metadata": {
    "colab": {
      "name": "BMFH - Chapter 02.ipynb",
      "provenance": [],
      "collapsed_sections": [
        "0bBNb2NWoA4D",
        "cdaPL56lA7YT",
        "3bgZisjZA1_m",
        "v7WGF7qwCAFD",
        "pQVamMajCaa6",
        "4gkzTbY_DSyV",
        "Dfe2sYC1FFW7",
        "U2k0p4VvF3K1",
        "tE-nl2BIG34n",
        "sC5VGF9AJfkL",
        "I8yFJWskLbeD",
        "35bo8QtERvsM",
        "D_RUdIeTQEgw",
        "1ysYRaIx64Gj",
        "OpsuaoPintFe",
        "ZHPfM1GuPVYR"
      ],
      "toc_visible": true
    },
    "kernelspec": {
      "display_name": "Python 3",
      "name": "python3"
    }
  },
  "cells": [
    {
      "cell_type": "markdown",
      "metadata": {
        "id": "0bBNb2NWoA4D"
      },
      "source": [
        "# Bayesian Methods for Hackers - Chapter 02 "
      ]
    },
    {
      "cell_type": "markdown",
      "metadata": {
        "id": "0X3mIZtKoE-c"
      },
      "source": [
        "In PyMC3, we typically handle all the variables we want in our model in the context of a the `Model` object."
      ]
    },
    {
      "cell_type": "code",
      "metadata": {
        "colab": {
          "base_uri": "https://localhost:8080/"
        },
        "id": "ykUzRNitocfb",
        "outputId": "d3dc1ba8-5d22-4053-8cb1-b90cbf4f8f00"
      },
      "source": [
        "!pip install pymc3"
      ],
      "execution_count": null,
      "outputs": [
        {
          "output_type": "stream",
          "text": [
            "Requirement already satisfied: pymc3 in /usr/local/lib/python3.6/dist-packages (3.7)\n",
            "Requirement already satisfied: numpy>=1.13.0 in /usr/local/lib/python3.6/dist-packages (from pymc3) (1.19.5)\n",
            "Requirement already satisfied: scipy>=0.18.1 in /usr/local/lib/python3.6/dist-packages (from pymc3) (1.4.1)\n",
            "Requirement already satisfied: tqdm>=4.8.4 in /usr/local/lib/python3.6/dist-packages (from pymc3) (4.41.1)\n",
            "Requirement already satisfied: h5py>=2.7.0 in /usr/local/lib/python3.6/dist-packages (from pymc3) (2.10.0)\n",
            "Requirement already satisfied: pandas>=0.18.0 in /usr/local/lib/python3.6/dist-packages (from pymc3) (1.1.5)\n",
            "Requirement already satisfied: theano>=1.0.4 in /usr/local/lib/python3.6/dist-packages (from pymc3) (1.0.5)\n",
            "Requirement already satisfied: patsy>=0.4.0 in /usr/local/lib/python3.6/dist-packages (from pymc3) (0.5.1)\n",
            "Requirement already satisfied: six in /usr/local/lib/python3.6/dist-packages (from h5py>=2.7.0->pymc3) (1.15.0)\n",
            "Requirement already satisfied: pytz>=2017.2 in /usr/local/lib/python3.6/dist-packages (from pandas>=0.18.0->pymc3) (2018.9)\n",
            "Requirement already satisfied: python-dateutil>=2.7.3 in /usr/local/lib/python3.6/dist-packages (from pandas>=0.18.0->pymc3) (2.8.1)\n"
          ],
          "name": "stdout"
        }
      ]
    },
    {
      "cell_type": "code",
      "metadata": {
        "id": "L23hFeSmoeIn"
      },
      "source": [
        "import pymc3 as pm"
      ],
      "execution_count": null,
      "outputs": []
    },
    {
      "cell_type": "markdown",
      "metadata": {
        "id": "cdaPL56lA7YT"
      },
      "source": [
        "# PyMC3 Models"
      ]
    },
    {
      "cell_type": "code",
      "metadata": {
        "id": "IDvIVgAppMf7"
      },
      "source": [
        "# With PyMC3, all variables are defined in the context of a Model\r\n",
        "with pm.Model() as model:\r\n",
        "  parameter = pm.Exponential('poisson_param', 1.0)\r\n",
        "  data_generator = pm.Poisson('data_generator', parameter)"
      ],
      "execution_count": null,
      "outputs": []
    },
    {
      "cell_type": "code",
      "metadata": {
        "id": "gThsEqZx-nUQ"
      },
      "source": [
        "# Can continue to work in the context of the same model using the `with` syntax\r\n",
        "with model:\r\n",
        "  data_plus_one = data_generator + 1"
      ],
      "execution_count": null,
      "outputs": []
    },
    {
      "cell_type": "code",
      "metadata": {
        "colab": {
          "base_uri": "https://localhost:8080/"
        },
        "id": "UpLHqKAP-uPk",
        "outputId": "7f829ed2-316c-41df-bc64-9bab8e486cc0"
      },
      "source": [
        "# These variables can be examined outside the scope of a model. But to define additional variables\r\n",
        "# that the model will recognize, we still need to declare them in context\r\n",
        "parameter.tag.test_value"
      ],
      "execution_count": null,
      "outputs": [
        {
          "output_type": "execute_result",
          "data": {
            "text/plain": [
              "array(0.69314718)"
            ]
          },
          "metadata": {
            "tags": []
          },
          "execution_count": 10
        }
      ]
    },
    {
      "cell_type": "code",
      "metadata": {
        "id": "lvJRxyP_ARmP"
      },
      "source": [
        "# Each variable declared in a parameter's scope is defined with its own name i.e. the first string parameter\r\n",
        "with pm.Model() as model:\r\n",
        "  theta = pm.Exponential('theta', 2.0)                  # theta is mapped to pm.Model, and has name `theta`\r\n",
        "  data_generator = pm.Poisson('data_generator', theta)  # data_generator is mapped to pm.Model, and has name `data_generator`"
      ],
      "execution_count": null,
      "outputs": []
    },
    {
      "cell_type": "code",
      "metadata": {
        "id": "4GbnCkzRAraB"
      },
      "source": [
        "# We can instantiate as many models as wel like, and need not overwrite old models\r\n",
        "with pm.Model() as ab_testing:\r\n",
        "  p_A = pm.Uniform('P(A)', 0, 1)\r\n",
        "  p_B = pm.Uniform('P(B)', 0, 1)"
      ],
      "execution_count": null,
      "outputs": []
    },
    {
      "cell_type": "markdown",
      "metadata": {
        "id": "3bgZisjZA1_m"
      },
      "source": [
        "# PyMC3 Variables"
      ]
    },
    {
      "cell_type": "code",
      "metadata": {
        "colab": {
          "base_uri": "https://localhost:8080/"
        },
        "id": "fi0gnQJiA-0y",
        "outputId": "6127869c-6345-495c-bb39-fc27304b5816"
      },
      "source": [
        "# All PyMC3 variables have an initial value called the `test_value` \r\n",
        "print(\"parameter.tag.test_value = \", parameter.tag.test_value)\r\n",
        "print(\"data_generator.tag.test_value = \", data_generator.tag.test_value)\r\n",
        "print(\"data_plus_one.tag.test_value = \", data_plus_one.tag.test_value)"
      ],
      "execution_count": null,
      "outputs": [
        {
          "output_type": "stream",
          "text": [
            "parameter.tag.test_value =  0.6931471824645996\n",
            "data_generator.tag.test_value =  0\n",
            "data_plus_one.tag.test_value =  1\n"
          ],
          "name": "stdout"
        }
      ]
    },
    {
      "cell_type": "markdown",
      "metadata": {
        "id": "WPOSj6MDBP0F"
      },
      "source": [
        "`test_value` is only used for the model as the starting point for sampling if no other start is specified . It doesn't change the result of sampling. We can explicitly specify the initial state for `test_value` during model initialization."
      ]
    },
    {
      "cell_type": "code",
      "metadata": {
        "id": "zHxxdImwB2dI"
      },
      "source": [
        "# Explicitly initialize test_value\r\n",
        "with pm.Model() as model:\r\n",
        "  parameter = pm.Exponential('poisson_param', 1.0, testval = 0.5)"
      ],
      "execution_count": null,
      "outputs": []
    },
    {
      "cell_type": "code",
      "metadata": {
        "colab": {
          "base_uri": "https://localhost:8080/"
        },
        "id": "jFm43T80B8hn",
        "outputId": "7e353770-d4e4-46af-e25a-9141e2984e96"
      },
      "source": [
        "print(\"parameter.tag.test_value = \", parameter.tag.test_value)"
      ],
      "execution_count": null,
      "outputs": [
        {
          "output_type": "stream",
          "text": [
            "parameter.tag.test_value =  0.5\n"
          ],
          "name": "stdout"
        }
      ]
    },
    {
      "cell_type": "markdown",
      "metadata": {
        "id": "v7WGF7qwCAFD"
      },
      "source": [
        "## Deterministic vs Stochastic Variables\r\n",
        "- A **stochastic** variable is one that is not deterministic i.e. even if we knew all the values of the variables' parameters and components beforehand, the variable would still be random.\r\n",
        "- A **deterministic** variable is one that is not random i.e. given that we know the values of variables' parameters and components, we can also determine the value of the variable itself. "
      ]
    },
    {
      "cell_type": "markdown",
      "metadata": {
        "id": "pQVamMajCaa6"
      },
      "source": [
        "## Initializing Stochastic Variables"
      ]
    },
    {
      "cell_type": "code",
      "metadata": {
        "id": "3n6s8eSOCcuD"
      },
      "source": [
        "# A name argument + additional parameters that are class specific \r\n",
        "with pm.Model() as stochastic_example_model:\r\n",
        "  some_variable = pm.DiscreteUniform('discrete_uni_var', 0, 4)      \r\n",
        "  # Uniform RV between 0 and 4. Because `name` argument is used to fetch the posterior \r\n",
        "  # distribution after sampling, it is best to be descriptive. "
      ],
      "execution_count": null,
      "outputs": []
    },
    {
      "cell_type": "code",
      "metadata": {
        "id": "XGiDQ7WNCiKS"
      },
      "source": [
        "# Can also multiple stochastic variables that are independent of each other\r\n",
        "# Suppose we want to instantiate a uniform model with `N` betas \r\n",
        "N = 10\r\n",
        "\r\n",
        "with pm.Model() as multivariate_example_model:\r\n",
        "  betas = pm.Uniform('betas', 0, 1, shape = N)"
      ],
      "execution_count": null,
      "outputs": []
    },
    {
      "cell_type": "markdown",
      "metadata": {
        "id": "4gkzTbY_DSyV"
      },
      "source": [
        "## Initializing Deterministic Variables"
      ]
    },
    {
      "cell_type": "code",
      "metadata": {
        "id": "a4yOK8HsDfnZ"
      },
      "source": [
        "with pm.Model() as model:\r\n",
        "  lambda_1 = pm.Exponential('lambda_1', 1.0)\r\n",
        "  lambda_2 = pm.Exponential('lambda_2', 1.0)\r\n",
        "  tau = pm.DiscreteUniform('tau', lower = 0, upper = 10)"
      ],
      "execution_count": null,
      "outputs": []
    },
    {
      "cell_type": "code",
      "metadata": {
        "id": "Wfh6hnz0Dpql"
      },
      "source": [
        "# This is a deterministic random variable: we know the component variables are lambda_1 and lambda_2\r\n",
        "# So we know exactly what makes up new_deterministic_variable\r\n",
        "new_deterministic_variable = lambda_1 + lambda_2"
      ],
      "execution_count": null,
      "outputs": []
    },
    {
      "cell_type": "code",
      "metadata": {
        "id": "VlCXb8zgDsJX"
      },
      "source": [
        "# Last chapter's text-messaging example used a deterministic random variable \r\n",
        "import numpy as np\r\n",
        "\r\n",
        "n_data_points = 5       # In the previous chapter we had 70 data points\r\n",
        "idx = np.arange(n_data_points)\r\n",
        "with model:\r\n",
        "  lambda_ = pm.math.switch(tau >= idx, lambda_1, lambda_2)"
      ],
      "execution_count": null,
      "outputs": []
    },
    {
      "cell_type": "markdown",
      "metadata": {
        "id": "aOvmVexhEf8m"
      },
      "source": [
        "`lambda_` or $\\lambda$ is known completley if `lambda_1`, `lambda_2`, and `tau` are known, because $\\lambda = f(\\lambda_1, \\lambda_2, \\tau)$. We use the `switch` function to change from $\\lambda_1$ to $\\lambda_2$ at the appropriate time. \r\n",
        "\r\n",
        "Inside a `deterministic` variable, the stochastic variables passed in behavee like scalers or `NumPy` arrays. We can do whatever we want with them as long as the dimensions match up in our calculations."
      ]
    },
    {
      "cell_type": "code",
      "metadata": {
        "id": "95exXmleFC2_"
      },
      "source": [
        "def subtract(x, y):\r\n",
        "  return x - y\r\n",
        "\r\n",
        "with pm.Model() as subtraction_model:\r\n",
        "  stochastic_1 = pm.Uniform('uniform_1', 0, 1)\r\n",
        "  stochastic_2 = pm.Uniform('uniform_2', 0, 1)\r\n",
        "\r\n",
        "  # Must be created in the context of a model, though maybe not this model \r\n",
        "  det_1 = pm.Deterministic('Delta', subtract(stochastic_1, stochastic_2))"
      ],
      "execution_count": null,
      "outputs": []
    },
    {
      "cell_type": "markdown",
      "metadata": {
        "id": "Dfe2sYC1FFW7"
      },
      "source": [
        "# Theano\r\n",
        "\r\n",
        "PyMC3 runs on a theano backend."
      ]
    },
    {
      "cell_type": "code",
      "metadata": {
        "id": "cEuXdhojFZ2_"
      },
      "source": [
        "import theano.tensor as tt\r\n",
        "\r\n",
        "with pm.Model() as theano_test:\r\n",
        "  p1 = pm.Uniform('p', 0, 1)\r\n",
        "  p2 = 1 - p1 \r\n",
        "  p = tt.stack([p1, p2])\r\n",
        "\r\n",
        "  assignment = pm.Categorical('assignment', p)"
      ],
      "execution_count": null,
      "outputs": []
    },
    {
      "cell_type": "markdown",
      "metadata": {
        "id": "U2k0p4VvF3K1"
      },
      "source": [
        "# Including Observations in Models"
      ]
    },
    {
      "cell_type": "code",
      "metadata": {
        "id": "dHjH9jy1GCQc"
      },
      "source": [
        "%matplotlib inline \r\n",
        "\r\n",
        "from IPython.core.pylabtools import figsize\r\n",
        "import matplotlib.pyplot as plt \r\n",
        "import scipy.stats as stats"
      ],
      "execution_count": null,
      "outputs": []
    },
    {
      "cell_type": "markdown",
      "metadata": {
        "id": "u0BfQMqnGlZ9"
      },
      "source": [
        "At this point, we have fully specified our priors for parameters like `lambda_1`."
      ]
    },
    {
      "cell_type": "code",
      "metadata": {
        "colab": {
          "base_uri": "https://localhost:8080/",
          "height": 301
        },
        "id": "j2pqeN1zGIsP",
        "outputId": "aafdba10-1400-4c37-b623-7516181c4967"
      },
      "source": [
        "# What is the distribution of `lambda_1`?\r\n",
        "figsize(12.5, 4)\r\n",
        "samples = lambda_1.random(size = 200000)\r\n",
        "plt.hist(samples, bins = 70, density = True, histtype = 'stepfilled')\r\n",
        "plt.title('Prior Distribution for $\\lambda_1$')\r\n",
        "plt.xlim([0, 8])"
      ],
      "execution_count": null,
      "outputs": [
        {
          "output_type": "execute_result",
          "data": {
            "text/plain": [
              "(0.0, 8.0)"
            ]
          },
          "metadata": {
            "tags": []
          },
          "execution_count": 36
        },
        {
          "output_type": "display_data",
          "data": {
            "image/png": "[encoded data removed]",
            "text/plain": [
              "<Figure size 900x288 with 1 Axes>"
            ]
          },
          "metadata": {
            "tags": [],
            "needs_background": "light"
          }
        }
      ]
    },
    {
      "cell_type": "markdown",
      "metadata": {
        "id": "NsjfEI_BGWHY"
      },
      "source": [
        "The next step is to include data and observations into the model. We do this using the `observed` keyword for Stochastic variables."
      ]
    },
    {
      "cell_type": "code",
      "metadata": {
        "colab": {
          "base_uri": "https://localhost:8080/"
        },
        "id": "Dj6UgozMGx6f",
        "outputId": "1fc7a20d-2847-4475-cb6b-b6729ef3d9fa"
      },
      "source": [
        "# This is the data or evidence that will be used with our model\r\n",
        "data = np.array([10, 5])\r\n",
        "\r\n",
        "# For stochastic variables, we can explicitly specify the evidence/data using the `fixed` keyword\r\n",
        "with model:\r\n",
        "  fixed_variable = pm.Poisson('fixed', 1 , observed = data)\r\n",
        "print('value: ', fixed_variable.tag.test_value)"
      ],
      "execution_count": null,
      "outputs": [
        {
          "output_type": "stream",
          "text": [
            "value:  [10  5]\n"
          ],
          "name": "stdout"
        }
      ]
    },
    {
      "cell_type": "markdown",
      "metadata": {
        "id": "tE-nl2BIG34n"
      },
      "source": [
        "# Bayesian Modeling Workflow\r\n",
        "\r\n",
        "A good start to Bayesian modeling is to think about **how your data might have been generated** or what the data generating process was. Ask questions like \r\n",
        "1. **What is the best random variable to describe the target variable?**: In the previous example, the target variable was the count of text messages received on day $i$ $C_i$. A Poisson RV was a good candidate because it could represent the discrete count data. \r\n",
        "2. **What variables do we need to define the data generating process?** Now that we've assumed SMS frequency is Poisson distributed, what do we need to define this distribution? We know it the Poisson distribution as a parameter $\\lambda$.\r\n",
        "3. **Do we know the parameters required to define the generating process?** In this context, do we know $\\lambda$? No, and in fact we have a suspicion that there are two $\\lambda$ values - one of earlier behaviur, and one for later behaviour. We don't know when the switchover happens, but we define this point with another parameter - $\\tau$.\r\n",
        "4. **What is a good distribution for the parameters?** We know an exponential distribution might be useful for $\\lambda$ since it assigns probabilties to positive real numbers. Since this distribution itself has a parameter, we call it $\\alpha$.\r\n",
        "5. **Decide a first principle**. Theoretically, we could go on forever making assumptions about how $\\alpha$ is generated and how the parameters that make up the distribution for $\\alpha$ themselves are generated, but this gets intractable. We don't really have a strong prior belief about this parameter. So best to stop here. For $\\alpha$, if we set a really high value (which corresponds to a higher probability towards higher values of $\\lambda$, then we risk overshooting the prior's mean. Likewise, if we set $\\alpha$ too low, we run into similar problems. Good idea in this case is to set $\\alpha$ to reflect our belief for $\\lambda$ i.e $\\alpha = \\frac{1}{\\lambda}$\r\n",
        "6. **Repeat for Other Parameters**: We have no expert opinion on $\\tau$ so assume it is a discrete uniform distribution over the entire timespan."
      ]
    },
    {
      "cell_type": "markdown",
      "metadata": {
        "id": "sC5VGF9AJfkL"
      },
      "source": [
        "# Working Backwards\r\n",
        "We can simulate the original dataset for text messages if we work backwards from our parameters."
      ]
    },
    {
      "cell_type": "code",
      "metadata": {
        "colab": {
          "base_uri": "https://localhost:8080/"
        },
        "id": "ZYsoIy0YJv1P",
        "outputId": "679cd507-23bf-4e25-8d24-e545aff3233e"
      },
      "source": [
        "# Randomly decide the point at which the user's behaviour changes i.e. when text messaging frequency increases\r\n",
        "tau = np.random.randint(0, 80)\r\n",
        "print(tau)"
      ],
      "execution_count": null,
      "outputs": [
        {
          "output_type": "stream",
          "text": [
            "60\n"
          ],
          "name": "stdout"
        }
      ]
    },
    {
      "cell_type": "code",
      "metadata": {
        "colab": {
          "base_uri": "https://localhost:8080/"
        },
        "id": "MjgW0TO8J2-U",
        "outputId": "cb30fd50-c559-452d-a0e5-7e606fd552dd"
      },
      "source": [
        "# Draw lambdas from an exponential distribution \r\n",
        "alpha = 1.0 / 20.0 \r\n",
        "\r\n",
        "lambda_1, lambda_2 = np.random.exponential(scale = 1 / alpha, size = 2)\r\n",
        "print(lambda_1, lambda_2)"
      ],
      "execution_count": null,
      "outputs": [
        {
          "output_type": "stream",
          "text": [
            "27.51219239794898 4.250102447355692\n"
          ],
          "name": "stdout"
        }
      ]
    },
    {
      "cell_type": "code",
      "metadata": {
        "id": "_NUVW-6fKAV0"
      },
      "source": [
        "# For days before tau, represent the user's recevied SMS count by sampling from Poisson(lambda_1)\r\n",
        "# Sample from Poisson(lambda_2) for days after tau \r\n",
        "data = np.r_[stats.poisson.rvs(mu = lambda_1, size = tau), stats.poisson.rvs(mu = lambda_2, size = 80 - tau)]"
      ],
      "execution_count": null,
      "outputs": []
    },
    {
      "cell_type": "code",
      "metadata": {
        "colab": {
          "base_uri": "https://localhost:8080/",
          "height": 313
        },
        "id": "8jseMBGZKP4h",
        "outputId": "5bf2ea13-2257-4938-f565-f90c3fcdeebf"
      },
      "source": [
        "# Plot the artificial dataset\r\n",
        "plt.bar(np.arange(80), data, color = '#348ABD')\r\n",
        "plt.bar(tau - 1, data[tau - 1], color = 'r', label = 'user behavioru changed')\r\n",
        "plt.xlabel('Time (days)')\r\n",
        "plt.ylabel('Count of Text Messages Received')\r\n",
        "plt.title('Artificial Dataset')\r\n",
        "plt.xlim(0, 80)\r\n",
        "plt.legend()"
      ],
      "execution_count": null,
      "outputs": [
        {
          "output_type": "execute_result",
          "data": {
            "text/plain": [
              "<matplotlib.legend.Legend at 0x7f48d0caf128>"
            ]
          },
          "metadata": {
            "tags": []
          },
          "execution_count": 41
        },
        {
          "output_type": "display_data",
          "data": {
            "image/png": "[encoded data removed]",
            "text/plain": [
              "<Figure size 900x288 with 1 Axes>"
            ]
          },
          "metadata": {
            "tags": [],
            "needs_background": "light"
          }
        }
      ]
    },
    {
      "cell_type": "markdown",
      "metadata": {
        "id": "VNJIeYgoKgYh"
      },
      "source": [
        "It doesn't matter that the dataset we've generated doesn't look like the original dataset. It's because we've used random values for alpha, lambda, and tau. The whole point of Bayesian inference is to help us find values for these parameters that minimize the difference between our simulated data generating process and the actual data generating process."
      ]
    },
    {
      "cell_type": "code",
      "metadata": {
        "id": "2QtaFPTDK1_X"
      },
      "source": [
        "def plot_artificial_sms_dataset():\r\n",
        "  tau = stats.randint.rvs(0, 80)\r\n",
        "  alpha = 1.0 / 20.0 \r\n",
        "  lambda_1, lambda_2 = stats.expon.rvs(scale = 1 / alpha, size = 2)\r\n",
        "  data = np.r_[\r\n",
        "               stats.poisson.rvs(mu = lambda_1, size = tau), \r\n",
        "               stats.poisson.rvs(mu = lambda_2, size = 80 - tau)\r\n",
        "  ]\r\n",
        "  plt.bar(np.arange(80), data, color = '#348ABD')\r\n",
        "  plt.bar(tau - 1, data[tau - 1], color = 'r', label = 'user behaviour changed')\r\n",
        "  plt.xlim(0, 80)"
      ],
      "execution_count": null,
      "outputs": []
    },
    {
      "cell_type": "code",
      "metadata": {
        "colab": {
          "base_uri": "https://localhost:8080/",
          "height": 320
        },
        "id": "RLCKgfBhLTjw",
        "outputId": "8ced080c-9e6e-4953-f7b1-6b2a18a717ad"
      },
      "source": [
        "figsize(12.5, 5)\r\n",
        "plt.title('More examples of artificial datasets')\r\n",
        "for i in range(4):\r\n",
        "  plt.subplot(4, 1, i + 1)\r\n",
        "  plot_artificial_sms_dataset()"
      ],
      "execution_count": null,
      "outputs": [
        {
          "output_type": "display_data",
          "data": {
            "image/png": "[encoded data removed]",
            "text/plain": [
              "<Figure size 900x360 with 4 Axes>"
            ]
          },
          "metadata": {
            "tags": [],
            "needs_background": "light"
          }
        }
      ]
    },
    {
      "cell_type": "markdown",
      "metadata": {
        "id": "I8yFJWskLbeD"
      },
      "source": [
        "# Example 01 - Bayesian A/B Testing\r\n",
        "\r\n",
        "Assume $p_A$ is the probability that a customer purchases a product when they visit site A. We know that site A was shown to $N$ customers of which $n$ customers made purchases. \r\n",
        "\r\n",
        "We want to use this information to estimate the **true** value of $p_A$, which may not necessarily be the same as the observed value of $p_A = \\frac{n}{N}$. \r\n",
        "\r\n",
        "The **true** value of such probabilities is often hidden from us. We need to infer it from the data. \r\n",
        "\r\n",
        "So, essentially \r\n",
        "$$P(A|X) = \\frac{P(X|A)P(A)}{P(X|A)P(A) + P(X|A^C)P(A^C)}$$\r\n",
        "$$Posterior = \\frac{Likelihood \\times Prior}{Normalizing Constant}$$\r\n",
        "\r\n",
        "We need to define the prior and likelihood before we can proceed. \r\n",
        "We have no strong convictions or evidence about $p_A$ so we can assume a uniform prior: all values of $p_A \\in [0, 1]$ are equally likely. "
      ]
    },
    {
      "cell_type": "markdown",
      "metadata": {
        "id": "35bo8QtERvsM"
      },
      "source": [
        "## Site A Only"
      ]
    },
    {
      "cell_type": "code",
      "metadata": {
        "id": "t9zQJ8vLNhr5"
      },
      "source": [
        "import pymc3 as pm"
      ],
      "execution_count": null,
      "outputs": []
    },
    {
      "cell_type": "code",
      "metadata": {
        "id": "PmNP5UInN5TU"
      },
      "source": [
        "# Instantiate a model where a uniform distribution for th prior probability of sale on website A \r\n",
        "with pm.Model() as model:\r\n",
        "  p = pm.Uniform('p', lower = 0, upper = 1)"
      ],
      "execution_count": null,
      "outputs": []
    },
    {
      "cell_type": "code",
      "metadata": {
        "colab": {
          "base_uri": "https://localhost:8080/"
        },
        "id": "f7NDrU4tODSO",
        "outputId": "de89f420-2b1a-4eb9-a378-e3115ef0a490"
      },
      "source": [
        "# Simulate some data assuming p_A = 0.05 and N = 1500. Use a binomial distribution to generate data.\r\n",
        "p_true = 0.05                 # This is actually unknown. We are just assuming this for the sake of data generation\r\n",
        "N = 1500                      # Number of observations \r\n",
        "\r\n",
        "# Sample N Bernoulli random variables from Ber(0.05). Each random variable has a 0.05 \r\n",
        "# chance of being a 1. This is the data generation step\r\n",
        "occurrences = stats.bernoulli.rvs(p_true, size = N)\r\n",
        "\r\n",
        "print(\"Occurences: \", occurrences)\r\n",
        "print(\"Total Sales: \", np.sum(occurrences))"
      ],
      "execution_count": null,
      "outputs": [
        {
          "output_type": "stream",
          "text": [
            "Occurences:  [0 0 0 ... 0 0 0]\n",
            "Total Sales:  77\n"
          ],
          "name": "stdout"
        }
      ]
    },
    {
      "cell_type": "code",
      "metadata": {
        "colab": {
          "base_uri": "https://localhost:8080/"
        },
        "id": "WMQ837J7OgD7",
        "outputId": "0082ddbd-33db-4f2b-86a2-5b25a820a450"
      },
      "source": [
        "# The man value of `occurrences` is an estimate for the \"true\" probability of a sale \r\n",
        "print(\"What is the observed frequency in Group A? %.4f\" % np.mean(occurrences))\r\n",
        "print(\"Does this equal the true frequency? %s\" % (np.mean(occurrences) == p_true))"
      ],
      "execution_count": null,
      "outputs": [
        {
          "output_type": "stream",
          "text": [
            "What is the observed frequency in Group A? 0.0513\n",
            "Does this equal the true frequency? False\n"
          ],
          "name": "stdout"
        }
      ]
    },
    {
      "cell_type": "markdown",
      "metadata": {
        "id": "50QMD_tuOg4d"
      },
      "source": [
        "We combine our observations into the PyMC3 model's `observed` variable and run our inference algorithm."
      ]
    },
    {
      "cell_type": "code",
      "metadata": {
        "colab": {
          "base_uri": "https://localhost:8080/"
        },
        "id": "-EY1itdFPBZO",
        "outputId": "a89d6577-702b-44f7-8a99-f9a08492cbd9"
      },
      "source": [
        "with model:\r\n",
        "  # The data used as the evidence to generate posterior\r\n",
        "  obs = pm.Bernoulli('obs', p, observed = occurrences)\r\n",
        "  \r\n",
        "  # To be explained in chapter 3\r\n",
        "  step = pm.Metropolis()                  # Use Metropolis proposals in MCMC sampling\r\n",
        "  trace = pm.sample(18000, step = step)   # 18000 samples from the posterior distribution\r\n",
        "  burned_trace = trace[1000:]             # Assume first 1k were warmups "
      ],
      "execution_count": null,
      "outputs": [
        {
          "output_type": "stream",
          "text": [
            "Sequential sampling (2 chains in 1 job)\n",
            "Metropolis: [p]\n",
            "100%|██████████| 18500/18500 [00:03<00:00, 5482.42it/s]\n",
            "100%|██████████| 18500/18500 [00:02<00:00, 6701.15it/s]\n",
            "The number of effective samples is smaller than 25% for some parameters.\n"
          ],
          "name": "stderr"
        }
      ]
    },
    {
      "cell_type": "code",
      "metadata": {
        "colab": {
          "base_uri": "https://localhost:8080/",
          "height": 301
        },
        "id": "qYFu8PeoPTiC",
        "outputId": "65814ec7-d1a6-4dc3-c841-a8679aa230c3"
      },
      "source": [
        "# What does the posterior distribution of p_A look like?\r\n",
        "figsize(12.5, 4)\r\n",
        "plt.title('Posterior Distribution of $p_A$ - the true effectiveness of site A')\r\n",
        "plt.vlines(p_true, 0, 90, linestyle = '--', label = 'true $p_A$ (unknown)')\r\n",
        "plt.hist(burned_trace['p'], bins = 25, histtype = 'stepfilled', density = True) \r\n",
        "plt.legend()"
      ],
      "execution_count": null,
      "outputs": [
        {
          "output_type": "execute_result",
          "data": {
            "text/plain": [
              "<matplotlib.legend.Legend at 0x7f48cd8c0c88>"
            ]
          },
          "metadata": {
            "tags": []
          },
          "execution_count": 87
        },
        {
          "output_type": "display_data",
          "data": {
            "image/png": "[encoded data removed]",
            "text/plain": [
              "<Figure size 900x288 with 1 Axes>"
            ]
          },
          "metadata": {
            "tags": [],
            "needs_background": "light"
          }
        }
      ]
    },
    {
      "cell_type": "markdown",
      "metadata": {
        "id": "ItxTx0OoPwv0"
      },
      "source": [
        "The good thing about this approach is that instead of giving us a point estimate for the true probability of a sale on website A $p_A$, it returns a probability distribution. The deviation/width of the probability distribution is proportional to the uncertainty in the belief that the 'true' value of the probability distribution is the same as the man of the distribution.\r\n",
        "\r\n",
        "The greater the number of observatons `N` in the data, the lower the 'width' of the posterior distribution, and thus the greater our confidence that it has the true value of $p_A$."
      ]
    },
    {
      "cell_type": "markdown",
      "metadata": {
        "id": "D_RUdIeTQEgw"
      },
      "source": [
        "# Site A and B\r\n",
        "\r\n",
        "We can carry out a similar analysis for both sites A and B simultaneously to determine $p_A$, $p_B$ and $\\delta = p_A - p_B$ all at once with PyMC3.\r\n",
        "\r\n",
        "For this exercise, we can assume that $p_A = 0.05, p_B = 0.04 \\Rightarrow \\delta = 0.01$ and that $N_B = 750$.\r\n",
        "\r\n",
        "We simulate data for site B in much the same way as we did for site A."
      ]
    },
    {
      "cell_type": "code",
      "metadata": {
        "id": "EYDKNzpNR9rz"
      },
      "source": [
        "import pymc3 as pm\r\n",
        "figsize(12, 4)"
      ],
      "execution_count": null,
      "outputs": []
    },
    {
      "cell_type": "code",
      "metadata": {
        "colab": {
          "base_uri": "https://localhost:8080/"
        },
        "id": "aDsaiNeVSOtg",
        "outputId": "82d5e1e4-0d26-489c-d64a-92e7f37aecce"
      },
      "source": [
        "# These two quantities are actually unknown to us, but for the sake of this example \r\n",
        "# we're assuming we know them a priori\r\n",
        "true_p_A = 0.05 \r\n",
        "true_p_B = 0.04 \r\n",
        "\r\n",
        "# The unequal sample sizes for two sites aren't an issue in Bayesian Analysis\r\n",
        "N_A = 1500\r\n",
        "N_B = 750 \r\n",
        "\r\n",
        "# Observations are still generating by a Bernoulli process \r\n",
        "observations_A = stats.bernoulli.rvs(true_p_A, size = N_A)\r\n",
        "observations_B = stats.bernoulli.rvs(true_p_B, size = N_B)\r\n",
        "\r\n",
        "# The observations - 1 denoting sale, 0 denoting no sale - are different for the two sites\r\n",
        "[print(f\"Observations from Site {site_letter}: {site_obs[:30]} ...\") for (site_letter, site_obs) in zip(['A', 'B'], [observations_A, observations_B])]\r\n",
        "\r\n",
        "# The conversion rate is also different\r\n",
        "[print(f\"Observed CR - Site {site_letter}: {np.mean(obs):.4f}\") for (site_letter, obs) in zip(['A', 'B'], [observations_A, observations_B])]"
      ],
      "execution_count": null,
      "outputs": [
        {
          "output_type": "stream",
          "text": [
            "Observations from Site A: [0 0 0 0 0 0 0 0 0 0 0 0 0 0 0 0 0 0 0 0 0 0 0 0 0 0 1 1 0 0] ...\n",
            "Observations from Site B: [0 0 0 0 0 0 0 0 0 0 0 0 0 0 0 0 0 0 0 0 0 0 0 0 0 0 0 0 0 0] ...\n",
            "Observed CR - Site A: 0.0533\n",
            "Observed CR - Site B: 0.0413\n"
          ],
          "name": "stdout"
        },
        {
          "output_type": "execute_result",
          "data": {
            "text/plain": [
              "[None, None]"
            ]
          },
          "metadata": {
            "tags": []
          },
          "execution_count": 105
        }
      ]
    },
    {
      "cell_type": "code",
      "metadata": {
        "colab": {
          "base_uri": "https://localhost:8080/"
        },
        "id": "MnjLQaFsS6xR",
        "outputId": "fc1adc1f-3af5-4105-d23b-7c865c5a68a5"
      },
      "source": [
        "# Set up the PyMC3 model: again assumes a uniform prior for p_A and p_B\r\n",
        "with pm.Model() as model:\r\n",
        "  # Prior probabilities \r\n",
        "  p_A = pm.Uniform('p_A', 0, 1)\r\n",
        "  p_B = pm.Uniform('p_B', 0, 1)\r\n",
        "\r\n",
        "  # Define the deterministic delta function. This is our unknown of interest\r\n",
        "  delta = pm.Deterministic('delta', p_A - p_B)\r\n",
        "\r\n",
        "  # Evidence/set of observations. In this case, we have separate obs for each dataset\r\n",
        "  obs_A = pm.Bernoulli('obs_A', p_A, observed = observations_A)\r\n",
        "  obs_B = pm.Bernoulli('obs_B', p_B, observed = observations_B)\r\n",
        "\r\n",
        "  # To be explained later in chapter 3 \r\n",
        "  step = pm.Metropolis() \r\n",
        "  trace = pm.sample(20000, step = step)\r\n",
        "  burned_trace = trace[1000:]"
      ],
      "execution_count": null,
      "outputs": [
        {
          "output_type": "stream",
          "text": [
            "Sequential sampling (2 chains in 1 job)\n",
            "CompoundStep\n",
            ">Metropolis: [p_B]\n",
            ">Metropolis: [p_A]\n",
            "100%|██████████| 20500/20500 [00:07<00:00, 2912.73it/s]\n",
            "100%|██████████| 20500/20500 [00:06<00:00, 3094.09it/s]\n",
            "The number of effective samples is smaller than 25% for some parameters.\n"
          ],
          "name": "stderr"
        }
      ]
    },
    {
      "cell_type": "markdown",
      "metadata": {
        "id": "gCn2_7gEUTSZ"
      },
      "source": [
        "We can now extract the samples of the posterior distributions for $p_A, p_B, \\delta$ and plot their histograms to visualize the results of our A/B testing."
      ]
    },
    {
      "cell_type": "code",
      "metadata": {
        "id": "DkQh7l5PUfZa"
      },
      "source": [
        "p_A_samples = burned_trace['p_A']\r\n",
        "p_B_samples = burned_trace['p_B']\r\n",
        "delta_samples = burned_trace['delta']"
      ],
      "execution_count": null,
      "outputs": []
    },
    {
      "cell_type": "code",
      "metadata": {
        "colab": {
          "base_uri": "https://localhost:8080/",
          "height": 681
        },
        "id": "br17qrsNUmE7",
        "outputId": "def332cb-5230-439d-f971-8ea48aee3712"
      },
      "source": [
        "figsize(12.5, 10)\r\n",
        "\r\n",
        "plt.suptitle('Posterior Distributions of $p_A$, $p_B$, and $\\delta$ unknowns')\r\n",
        "\r\n",
        "# Histogram of posteriors - p_A\r\n",
        "ax = plt.subplot(311)\r\n",
        "plt.xlim(0, 0.1)\r\n",
        "plt.hist(p_A_samples, histtype = 'stepfilled', bins = 25, alpha = 0.85, \r\n",
        "         label = 'posterior of $p_A$', color = '#A60628', density = True)\r\n",
        "plt.vlines(true_p_A, 0, 80, linestyle = '--', label = 'true $p_A$ (unknown)')\r\n",
        "plt.legend(loc = 'upper right')\r\n",
        "\r\n",
        "ax = plt.subplot(312)\r\n",
        "plt.xlim(0, 0.1)\r\n",
        "plt.hist(p_B_samples, histtype = 'stepfilled', bins = 25, alpha = 0.85, \r\n",
        "         label = 'posterior of $p_B$', color = '#467821', density = True)\r\n",
        "plt.vlines(true_p_B, 0, 80, linestyle = '--', label = 'true $p_B$ (unknown)')\r\n",
        "plt.legend(loc = 'upper right')\r\n",
        "\r\n",
        "ax = plt.subplot(313)\r\n",
        "plt.hist(delta_samples, histtype = 'stepfilled', bins = 25, alpha = 0.85, \r\n",
        "         label = 'posterior of $\\delta$', color = '#7A68A6', density = True)\r\n",
        "plt.vlines(true_p_A - true_p_B, 0, 60, linestyle = '--', label = 'true $\\delta$ (unknown)')\r\n",
        "plt.vlines(0, 0, 60, color = 'black', alpha = 0.2)\r\n",
        "plt.legend(loc = 'upper right')"
      ],
      "execution_count": null,
      "outputs": [
        {
          "output_type": "execute_result",
          "data": {
            "text/plain": [
              "<matplotlib.legend.Legend at 0x7f48cd3840f0>"
            ]
          },
          "metadata": {
            "tags": []
          },
          "execution_count": 108
        },
        {
          "output_type": "display_data",
          "data": {
            "image/png": "[encoded data removed]",
            "text/plain": [
              "<Figure size 900x720 with 3 Axes>"
            ]
          },
          "metadata": {
            "tags": [],
            "needs_background": "light"
          }
        }
      ]
    },
    {
      "cell_type": "markdown",
      "metadata": {
        "id": "V-FwsmZ1V-bJ"
      },
      "source": [
        "Looking at the posterior distributions for our parameters, we can infer\r\n",
        "1. $p_A$ has a narrower distribution than $p_B$ because the sample size $N_A$ for site A is twice that of $N_B$. So we are more \r\n",
        "2. This means we are more certain about the true value of $p_A$ than we are for the true value of $p_B$ **derived from these posterior distributions**. \r\n",
        "3. The posterior distribution for $\\delta$ is mostly above 0. Since $\\delta = p_A - p_B$, this means that the probability of a sale on site A is actually more likely to be higher than a probability of sale on site B. "
      ]
    },
    {
      "cell_type": "code",
      "metadata": {
        "colab": {
          "base_uri": "https://localhost:8080/"
        },
        "id": "9qQZYagmXeIX",
        "outputId": "22c15c8f-fea6-467e-a2b1-b51dd034ac87"
      },
      "source": [
        "# Confirming A > B\r\n",
        "print(f\"Probability that site A is WORSE than B: {np.mean(delta_samples < 0):.3f}\")\r\n",
        "print(f\"Probability that site A is BETTER than B: {np.mean(delta_samples > 0):.3f}\")"
      ],
      "execution_count": null,
      "outputs": [
        {
          "output_type": "stream",
          "text": [
            "Probability that site A is WORSE than B: 0.108\n",
            "Probability that site A is BETTER than B: 0.892\n"
          ],
          "name": "stdout"
        }
      ]
    },
    {
      "cell_type": "markdown",
      "metadata": {
        "id": "1ysYRaIx64Gj"
      },
      "source": [
        "# The Binomial Distribution"
      ]
    },
    {
      "cell_type": "code",
      "metadata": {
        "id": "q0YeuLc-66bY"
      },
      "source": [
        "# Plotting the binomial probability mass distribution \r\n",
        "import scipy.stats as stats\r\n",
        "import numpy as np"
      ],
      "execution_count": null,
      "outputs": []
    },
    {
      "cell_type": "code",
      "metadata": {
        "colab": {
          "base_uri": "https://localhost:8080/",
          "height": 315
        },
        "id": "zpNPvdWN8hyH",
        "outputId": "bfdd8819-04cc-4f2c-a1fd-99d405bcbcaf"
      },
      "source": [
        "figsize(12.5, 4)\r\n",
        "\r\n",
        "parameters = [(10, 0.4), (10, 0.9)]       # (N, p) = (Number of trials, probability of 'success')\r\n",
        "colors = ['#348ABD', '#A60628']     \r\n",
        "\r\n",
        "# Demonstrate the effect of `p` on the distribution \r\n",
        "for i in range(2):\r\n",
        "  # Unpack the tuple to find the number of trials and probability of success\r\n",
        "  N, p = parameters[i]\r\n",
        "\r\n",
        "  # The range of values of the binomial random variable\r\n",
        "  _x = np.arange(N + 1)\r\n",
        "\r\n",
        "  # We're plotting the probability of observing _x successes in N trials given probability of success = p \r\n",
        "  # To shift the xtick labels for the bars, the plt.bar's x_axis argument is offset by 0.5 \r\n",
        "  plt.bar(_x - 0.5, binomial.pmf(_x, N, p), color = colors[i], \r\n",
        "          edgecolor = colors[i], alpha = 0.6, label = '$N$: :%d, $p$: %.1f' % (N, p), \r\n",
        "          linewidth = 3\r\n",
        "  )\r\n",
        "\r\n",
        "plt.legend(loc = 'upper left')\r\n",
        "plt.xlim(0, 10.5)\r\n",
        "plt.xlabel('$k$')\r\n",
        "plt.ylabel('$P(X = k)$')\r\n",
        "plt.title('Probability Mass Distribution of Binomial Random Variables')"
      ],
      "execution_count": null,
      "outputs": [
        {
          "output_type": "execute_result",
          "data": {
            "text/plain": [
              "Text(0.5, 1.0, 'Probability Mass Distribution of Binomial Random Variables')"
            ]
          },
          "metadata": {
            "tags": []
          },
          "execution_count": 10
        },
        {
          "output_type": "display_data",
          "data": {
            "image/png": "[encoded data removed]",
            "text/plain": [
              "<Figure size 900x288 with 1 Axes>"
            ]
          },
          "metadata": {
            "tags": [],
            "needs_background": "light"
          }
        }
      ]
    },
    {
      "cell_type": "markdown",
      "metadata": {
        "id": "ZJLblm1w85kj"
      },
      "source": [
        "# Example 02 - Cheating Among Students\r\n",
        "\r\n",
        "We'll be using the binomial distribution to determine the frequency of students cheating on an exam. \r\n",
        "\r\n",
        "$N$ is the number of students who took the exam. \r\n",
        "$X$ is the number of students who respond in the affirmative when asked about if they cheated on the exam in a post-exam survey. \r\n",
        "$p$ is the probability that any given student cheated on the exam. \r\n",
        "\r\n",
        "We will use the binomial distribution to find the posterior distribution for $p$ - the probability that a student cheated on the exam given some specified prior $p$.\r\n",
        "\r\n",
        "To get around the problem of dishonest answers, we'll use a privacy preserving algorithm:\r\n",
        "1. Student flips a coin.\r\n",
        "2. If coin is heads, the student answers honestly. \r\n",
        "3. If coin is tails, student flips the coin again. \r\n",
        "4. If the second coin toss is a heads, then student pleads guilty. \r\n",
        "5. If the second coin toss is a tails, then student pleads not guilty. \r\n",
        "\r\n",
        "This preserves privacy because the interviewer does not know if a guilty plea was due to the first coin toss or the second coin toss. \r\n",
        "\r\n",
        "This model will have some noise, but PyMC3 can be used to sift through it."
      ]
    },
    {
      "cell_type": "markdown",
      "metadata": {
        "id": "OpsuaoPintFe"
      },
      "source": [
        "## Approach 01 \r\n",
        "- 100 students are being surveyed. \r\n",
        "- Want to find $p$ - the 'true' proportion of students that cheated. \r\n",
        "- Since we are ignorant about $p$, assume a uniform prior. "
      ]
    },
    {
      "cell_type": "code",
      "metadata": {
        "id": "5t0onhf_n3nm"
      },
      "source": [
        "import pymc3 as pm\r\n",
        "import numpy as np"
      ],
      "execution_count": null,
      "outputs": []
    },
    {
      "cell_type": "code",
      "metadata": {
        "id": "dCCN93k3n9ak"
      },
      "source": [
        "N = 100                                           # Number of students surveyed\r\n",
        "\r\n",
        "# Our model begins with a uniform prior called `freq_cheating` between 0 and 1\r\n",
        "with pm.Model() as model:\r\n",
        "  p = pm.Uniform('freq_cheating', 0, 1)"
      ],
      "execution_count": null,
      "outputs": []
    },
    {
      "cell_type": "code",
      "metadata": {
        "id": "AyhMIYISoFhl"
      },
      "source": [
        "# We assign a 1/0 cheating flag to each student based on a Bernoulli random variable \r\n",
        "# 1 implies they cheated. 0 Implies they did not \r\n",
        "\r\n",
        "with model:\r\n",
        "  true_answers = pm.Bernoulli('truths',         # The component is called `truths` \r\n",
        "                              p,                # The probability of success - defined in the context of the model in the last cell\r\n",
        "                              shape = N,        # We're generating such infomation for 100 students \r\n",
        "                              testval = np.random.binomial(1, 0.5, N))          # Randomly initialise the initial probability? "
      ],
      "execution_count": null,
      "outputs": []
    },
    {
      "cell_type": "code",
      "metadata": {
        "id": "qVc1anXlo35D"
      },
      "source": [
        "# The next step: first coin flip. There is 1/2 chance of heads or tails. \r\n",
        "# We arbitrarily choose to denote heads with 1 and tails with 0 \r\n",
        "with model:\r\n",
        "  first_coin_flips = pm.Bernoulli('first_flips', 0.5, shape = N, testval = np.random.binomial(1, 0.5, N))"
      ],
      "execution_count": null,
      "outputs": []
    },
    {
      "cell_type": "code",
      "metadata": {
        "colab": {
          "base_uri": "https://localhost:8080/"
        },
        "id": "ew-RO8dspQoY",
        "outputId": "7668d3ed-2d1e-4ba4-948f-52b806b4909c"
      },
      "source": [
        "print(first_coin_flips.tag.test_value)          # Data generated by the Bernoulli process"
      ],
      "execution_count": null,
      "outputs": [
        {
          "output_type": "stream",
          "text": [
            "[0 1 1 0 1 0 0 1 1 1 1 0 1 0 0 0 0 1 1 0 1 0 0 1 1 0 1 1 0 0 0 0 0 0 1 1 1\n",
            " 1 1 1 1 1 1 1 1 1 1 1 0 0 1 1 0 1 1 1 0 1 0 1 0 1 0 0 1 1 0 1 1 1 0 0 1 1\n",
            " 0 1 1 0 0 1 1 0 0 0 1 1 0 0 1 0 0 1 1 0 0 0 0 0 0 1]\n"
          ],
          "name": "stdout"
        }
      ]
    },
    {
      "cell_type": "code",
      "metadata": {
        "id": "Ryu4mMIvpTg1"
      },
      "source": [
        "# Although not everyone flipped a second time, we can model the possible realization of a second flip\r\n",
        "\r\n",
        "with model:\r\n",
        "  second_coin_flips = pm.Bernoulli('second_flips', 0.5, shape = N, testval = np.random.binomial(1, 0.5, N))"
      ],
      "execution_count": null,
      "outputs": []
    },
    {
      "cell_type": "markdown",
      "metadata": {
        "id": "VEQDrBj_plYQ"
      },
      "source": [
        "Using these variables, we can now return a possible realization of the observed proportion of 'Yes' responses using a PyMC3 deterministic variable.\r\n",
        "\r\n",
        "The variable is deterministic here because it's individual components: `true_answers`, `first_coin_flips`, and `second_coin_flips` are all known to us before hand. "
      ]
    },
    {
      "cell_type": "code",
      "metadata": {
        "id": "WMkO4rtAp1uV"
      },
      "source": [
        "import theano.tensor as tt \r\n",
        "\r\n",
        "with model:\r\n",
        "  \"\"\"\r\n",
        "  This is the heart of the privacy preserving algorithm. `val` is 1 if and only if \r\n",
        "  the first_coin_flips is 1 (heads on first toss, so student answers truthfully)\r\n",
        "  and the true_answer is also 1. It is also 1 if the first_coin_flip is false\r\n",
        "  and second_coin_flip is heads. Which means the that the student may not have \r\n",
        "  answered truthfully, but has plead guilty anyway. In all other cases, it is 0.\r\n",
        "  \"\"\"\r\n",
        "  val = first_coin_flips * true_answers + (1 - first_coin_flips) * second_coin_flips \r\n",
        "  observed_proportion = pm.Deterministic('observed_proportion', tt.sum(val) / float(N))"
      ],
      "execution_count": null,
      "outputs": []
    },
    {
      "cell_type": "markdown",
      "metadata": {
        "id": "9uykUSvprGR0"
      },
      "source": [
        "We now have to add a dataset that can be used as the `obs` for our model. Suppose that we have received 35 yes responses.\r\n",
        "\r\n",
        "To put these numbers into context:\r\n",
        "If there were truly no cheaters among the students, then the only way we could have received any heads at all would have been $Tails_{t1} \\times Heads_{t2}$ where $t_i$ is the $i^{th}$ toss. If tails on the first toss, then the student is forced to flip another coin instead of answering truthfully. On the second toss, if heads, then plead guilty. So $\\frac{1}{2} \\times \\frac{1}{2} = \\frac{1}{4}$. \r\n",
        "\r\n",
        "If there were only cheaters in the 100 students surveyed, then we could get a yes in two ways \r\n",
        "1. If all students answered truthfully on the first coin toss - $\\frac{1}{2}$ OR\r\n",
        "2. If all students had tails on the first coin toss and heads on the second: $\\frac{1}{2} \\times \\frac{1}{2} = \\frac{1}{4}$.\r\n",
        "\r\n",
        "So the researchers observe a **binomial random variable** with $N$ = 100 and $p$ = `observed_proportion$ and $X$ = 35. \r\n"
      ]
    },
    {
      "cell_type": "code",
      "metadata": {
        "id": "o8gbrmrDuqmS"
      },
      "source": [
        "X = 35        # The number of observed 'yes, I cheated' responses \r\n",
        "\r\n",
        "with model:\r\n",
        "  observations = pm.Binomial('obs', N, observed_proportion, observed = X)"
      ],
      "execution_count": null,
      "outputs": []
    },
    {
      "cell_type": "markdown",
      "metadata": {
        "id": "9usjU5RrvSRi"
      },
      "source": [
        "We now add all the variables we have created to a model object and run our MCMC algorithm to sample from the posterior. "
      ]
    },
    {
      "cell_type": "code",
      "metadata": {
        "colab": {
          "base_uri": "https://localhost:8080/"
        },
        "id": "RJ8pVFTGvYCW",
        "outputId": "c4e45b83-e469-4463-9151-c68c87beb89d"
      },
      "source": [
        "with model:\r\n",
        "  step = pm.Metropolis(vars = [p])\r\n",
        "\r\n",
        "  # 40k samples \r\n",
        "  trace = pm.sample(40 * (10 ** 3), step = step)\r\n",
        "\r\n",
        "  # Of which 15k warmups\r\n",
        "  burned_trace = trace[15 * (10 ** 3):]"
      ],
      "execution_count": null,
      "outputs": [
        {
          "output_type": "stream",
          "text": [
            "Sequential sampling (2 chains in 1 job)\n",
            "CompoundStep\n",
            ">Metropolis: [freq_cheating]\n",
            ">BinaryGibbsMetropolis: [truths, first_flips, second_flips]\n",
            "100%|██████████| 40500/40500 [13:50<00:00, 48.74it/s]\n",
            "100%|██████████| 40500/40500 [13:42<00:00, 49.26it/s]\n",
            "The number of effective samples is smaller than 10% for some parameters.\n"
          ],
          "name": "stderr"
        }
      ]
    },
    {
      "cell_type": "code",
      "metadata": {
        "colab": {
          "base_uri": "https://localhost:8080/",
          "height": 229
        },
        "id": "PpMjCT7yvl7O",
        "outputId": "9d0b11a1-c845-42c2-b035-889a34fc726b"
      },
      "source": [
        "figsize(12.5, 3)\r\n",
        "p_trace = burned_trace['freq_cheating'][15000:]       # Only consider samples from the posterior after warmups\r\n",
        "\r\n",
        "# Posterior distribution for `p` - the proportion of students who cheated\r\n",
        "plt.hist(\r\n",
        "    p_trace, histtype = 'stepfilled', density = True, alpha = 0.85, bins = 30, \r\n",
        "    label = 'posterior distribution', color = '#348ABD'\r\n",
        ")\r\n",
        "\r\n",
        "# Add vertical lines to find mark range of values with high probability\r\n",
        "plt.vlines([0.05, 0.35], [0, 0], [5, 5], alpha = 0.3)\r\n",
        "\r\n",
        "plt.xlim(0, 1)\r\n",
        "\r\n",
        "plt.legend()"
      ],
      "execution_count": null,
      "outputs": [
        {
          "output_type": "execute_result",
          "data": {
            "text/plain": [
              "<matplotlib.legend.Legend at 0x7f293d395e48>"
            ]
          },
          "metadata": {
            "tags": []
          },
          "execution_count": 22
        },
        {
          "output_type": "display_data",
          "data": {
            "image/png": "[encoded data removed]",
            "text/plain": [
              "<Figure size 900x216 with 1 Axes>"
            ]
          },
          "metadata": {
            "tags": [],
            "needs_background": "light"
          }
        }
      ]
    },
    {
      "cell_type": "markdown",
      "metadata": {
        "id": "GjG15ohYyLJE"
      },
      "source": [
        "The plot shows that we have updated our prior - which was completely uninformative and assumed a uniform probability for the proportion of cheating students. Instead, we now know that the true proportion lies between 0.05 and 0.35. \r\n",
        "\r\n",
        "Posterior sampling has effectively ruled out the possibility that the proportion of cheaters is 0 or greater than upper_lim."
      ]
    },
    {
      "cell_type": "markdown",
      "metadata": {
        "id": "zwgWTctgzsVI"
      },
      "source": [
        "## Approach 02\r\n",
        "\r\n",
        "Given a value for $p$, we can find the probability that the student will answer yes as follows. \r\n",
        "\r\n",
        "$P(Yes) = P(Heads~On~First~Try) \\times P(cheater) + P(Tails~On~First~Coin)\\times P(Heads~On~Second~Coin)$\r\n",
        "\r\n",
        "$P(Yes) = \\frac{1}{2}\\times p + \\frac{1}{2} \\times \\frac{1}{2}$\r\n",
        "\r\n",
        "$P(Yes) = \\frac{p}{2} + \\frac{1}{4}$"
      ]
    },
    {
      "cell_type": "code",
      "metadata": {
        "id": "yuEw-lHm0uRU"
      },
      "source": [
        "# Using this knowledge to generate a deterministic function for the probability of a 'Yes' \r\n",
        "with pm.Model() as model:\r\n",
        "  # The prior proportion of cheating students is still uniform/uninformative\r\n",
        "  p = pm.Uniform('freq_cheating', 0, 1)\r\n",
        "\r\n",
        "  # But we can reformulate it in the following terms\r\n",
        "  p_skewed = pm.Deterministic('p_skewed', 0.5 * p + 0.25)"
      ],
      "execution_count": null,
      "outputs": []
    },
    {
      "cell_type": "markdown",
      "metadata": {
        "id": "ZTUa5GGL1toq"
      },
      "source": [
        "If we now know the probability of respondents saying Yes, which is `p_skewed`, and we have $N = 100$ students, then the number of Yes responses is a binomial random variable with the parameters $N$ and $p_{skewed}$. \r\n",
        "\r\n",
        "We can then include the 35 yes observations as our data. "
      ]
    },
    {
      "cell_type": "code",
      "metadata": {
        "id": "Zcut9hga2CJ3"
      },
      "source": [
        "with model:\r\n",
        "  yes_responses = pm.Binomial('number_cheaters', 100, p_skewed, observed = 35)"
      ],
      "execution_count": null,
      "outputs": []
    },
    {
      "cell_type": "code",
      "metadata": {
        "colab": {
          "base_uri": "https://localhost:8080/"
        },
        "id": "HtcBmLtx2HPK",
        "outputId": "f3f77c75-bd4e-412a-f52c-58f356546e5c"
      },
      "source": [
        "# Now we add the variables of interest to the model and run our algorithm\r\n",
        "with model:\r\n",
        "  step = pm.Metropolis() \r\n",
        "  trace = pm.sample(25 * (10 ** 3), step = step)\r\n",
        "  burned_trace = trace[2500:]"
      ],
      "execution_count": null,
      "outputs": [
        {
          "output_type": "stream",
          "text": [
            "Sequential sampling (2 chains in 1 job)\n",
            "Metropolis: [freq_cheating]\n",
            "100%|██████████| 25500/25500 [00:03<00:00, 6575.50it/s]\n",
            "100%|██████████| 25500/25500 [00:03<00:00, 7621.49it/s]\n",
            "The number of effective samples is smaller than 25% for some parameters.\n"
          ],
          "name": "stderr"
        }
      ]
    },
    {
      "cell_type": "code",
      "metadata": {
        "colab": {
          "base_uri": "https://localhost:8080/",
          "height": 229
        },
        "id": "37yB1MxB2rcP",
        "outputId": "cde52ab7-7811-4699-d1af-9d88fd86260a"
      },
      "source": [
        "figsize(12.5, 3)\r\n",
        "\r\n",
        "p_trace = burned_trace['freq_cheating']\r\n",
        "plt.hist(\r\n",
        "    p_trace, histtype = 'stepfilled', density = True, alpha = 0.85, bins = 30, \r\n",
        "    label = 'posterior distribution', color = '#348ABD'\r\n",
        ")\r\n",
        "\r\n",
        "plt.vlines([0.05, 0.35], [0, 0], [5, 5], alpha = 0.2)\r\n",
        "\r\n",
        "plt.xlim(0, 1)\r\n",
        "\r\n",
        "plt.legend()"
      ],
      "execution_count": null,
      "outputs": [
        {
          "output_type": "execute_result",
          "data": {
            "text/plain": [
              "<matplotlib.legend.Legend at 0x7f293c25fba8>"
            ]
          },
          "metadata": {
            "tags": []
          },
          "execution_count": 28
        },
        {
          "output_type": "display_data",
          "data": {
            "image/png": "[encoded data removed]",
            "text/plain": [
              "<Figure size 900x216 with 1 Axes>"
            ]
          },
          "metadata": {
            "tags": [],
            "needs_background": "light"
          }
        }
      ]
    },
    {
      "cell_type": "markdown",
      "metadata": {
        "id": "7NXKmyHo28Eo"
      },
      "source": [
        "This is another approach of sampling the posterior distribution of `p`. "
      ]
    },
    {
      "cell_type": "markdown",
      "metadata": {
        "id": "EPZAu6ao_kMM"
      },
      "source": [
        "# Example 03 - Challenger Disaster"
      ]
    },
    {
      "cell_type": "markdown",
      "metadata": {
        "id": "KtV4_Idc_nmK"
      },
      "source": [
        "## Challenger O-Ring Data\r\n",
        "\r\n",
        "We will use Bayesian modeling to try and predict the chances of the Challenger disaster using only 24 data points about O-ring failure and temperature."
      ]
    },
    {
      "cell_type": "code",
      "metadata": {
        "id": "3MfY9XK9_8HR"
      },
      "source": [
        "import numpy as np \r\n",
        "import scipy as stats\r\n",
        "import pymc3 as pm\r\n",
        "import theano.tensor as tt\r\n",
        "\r\n",
        "%matplotlib inline \r\n",
        "\r\n",
        "from IPython.core.pylabtools import figsize\r\n",
        "import matplotlib.pyplot as plt \r\n",
        "import scipy.stats as stats"
      ],
      "execution_count": null,
      "outputs": []
    },
    {
      "cell_type": "code",
      "metadata": {
        "colab": {
          "base_uri": "https://localhost:8080/"
        },
        "id": "7yuqoL8HATYd",
        "outputId": "e3abc0b6-5cc7-4bcd-f88b-7d5d70f49c78"
      },
      "source": [
        "!wget \"https://raw.githubusercontent.com/CamDavidsonPilon/Probabilistic-Programming-and-Bayesian-Methods-for-Hackers/master/Chapter2_MorePyMC/data/challenger_data.csv\""
      ],
      "execution_count": null,
      "outputs": [
        {
          "output_type": "stream",
          "text": [
            "--2021-02-16 19:09:52--  https://raw.githubusercontent.com/CamDavidsonPilon/Probabilistic-Programming-and-Bayesian-Methods-for-Hackers/master/Chapter2_MorePyMC/data/challenger_data.csv\n",
            "Resolving raw.githubusercontent.com (raw.githubusercontent.com)... 185.199.110.133, 185.199.111.133, 185.199.109.133, ...\n",
            "Connecting to raw.githubusercontent.com (raw.githubusercontent.com)|185.199.110.133|:443... connected.\n",
            "HTTP request sent, awaiting response... 200 OK\n",
            "Length: 413 [text/plain]\n",
            "Saving to: ‘challenger_data.csv.1’\n",
            "\n",
            "challenger_data.csv 100%[===================>]     413  --.-KB/s    in 0s      \n",
            "\n",
            "2021-02-16 19:09:53 (29.7 MB/s) - ‘challenger_data.csv.1’ saved [413/413]\n",
            "\n"
          ],
          "name": "stdout"
        }
      ]
    },
    {
      "cell_type": "code",
      "metadata": {
        "colab": {
          "base_uri": "https://localhost:8080/",
          "height": 290
        },
        "id": "cnY19plw_5p1",
        "outputId": "21f43c66-5857-4a5a-b8b7-6b55baae0fef"
      },
      "source": [
        "figsize(12.5, 3.5)\r\n",
        "\r\n",
        "np.set_printoptions(precision = 3, suppress = True)\r\n",
        "\r\n",
        "# Read the data from CSV\r\n",
        "challenger_data = np.genfromtxt(\"./challenger_data.csv\", skip_header = 1, \r\n",
        "                                usecols = [1, 2], missing_values = 'NA', delimiter = ',')\r\n",
        "\r\n",
        "# Drop the NAN values \r\n",
        "challenger_data = challenger_data[~np.isnan(challenger_data[:, 1])]\r\n",
        "\r\n",
        "# Plot O-ring failure as a function of temperature \r\n",
        "plt.scatter(challenger_data[:, 0], challenger_data[:, 1], s = 75, color = 'k', alpha = 0.5)\r\n",
        "plt.ylabel('Damage Incident')\r\n",
        "plt.xlabel('Outside Temperature $(\\deg F)$')\r\n",
        "plt.title('Defects of the Space Shuttle O-Rings vs Temperature')"
      ],
      "execution_count": null,
      "outputs": [
        {
          "output_type": "execute_result",
          "data": {
            "text/plain": [
              "Text(0.5, 1.0, 'Defects of the Space Shuttle O-Rings vs Temperature')"
            ]
          },
          "metadata": {
            "tags": []
          },
          "execution_count": 41
        },
        {
          "output_type": "display_data",
          "data": {
            "image/png": "[encoded data removed]",
            "text/plain": [
              "<Figure size 900x252 with 1 Axes>"
            ]
          },
          "metadata": {
            "tags": [],
            "needs_background": "light"
          }
        }
      ]
    },
    {
      "cell_type": "markdown",
      "metadata": {
        "id": "JgzSWTvOBRon"
      },
      "source": [
        "It doesn't look like there is a single cutoff temperature which distinguishes O-ring failure region from non-failure region.\r\n",
        "\r\n",
        "So it makes more sense to model the probability of O-ring failure at time $t$.\r\n",
        "\r\n",
        "We need a function of temperature $p(t)$ that is $\\in [0, 1]$. More specifically, this function should decrease from 0 to 1 as $t$ increases. \r\n",
        "\r\n",
        "The logistic function is a good choice \r\n",
        "$p(t) = \\frac{1}{1 + e^{\\beta t}}$.\r\n",
        "\r\n",
        "In this model, $\\beta$ is a variable that we are uncertain about."
      ]
    },
    {
      "cell_type": "markdown",
      "metadata": {
        "id": "xFfTKqYuEwBX"
      },
      "source": [
        "## Plotting Logistic Function"
      ]
    },
    {
      "cell_type": "code",
      "metadata": {
        "id": "CMdFCJMcE024"
      },
      "source": [
        "# Define the exponential function for some x (domain) and beta (parameter)\r\n",
        "def logistic(x, beta):\r\n",
        "  return 1.0 / (1 + np.exp(beta * x))"
      ],
      "execution_count": null,
      "outputs": []
    },
    {
      "cell_type": "code",
      "metadata": {
        "colab": {
          "base_uri": "https://localhost:8080/",
          "height": 261
        },
        "id": "0iqVC8DUE-OR",
        "outputId": "08b09fde-077e-4547-95a7-28f5044af488"
      },
      "source": [
        "figsize(12, 3)\r\n",
        "\r\n",
        "x = np.linspace(-4, 4, 100)\r\n",
        "\r\n",
        "for beta in [0, 1, 3, -5]:\r\n",
        "  legend_str = r'$\\beta = %.2f$' % beta\r\n",
        "  plt.plot(x, logistic(x, beta), label = legend_str)\r\n",
        "\r\n",
        "plt.legend()\r\n",
        "plt.xlabel('$x$')\r\n",
        "plt.ylabel('$p(x)$')\r\n",
        "plt.title(r'Logistic Function for Different $\\beta$')"
      ],
      "execution_count": null,
      "outputs": [
        {
          "output_type": "execute_result",
          "data": {
            "text/plain": [
              "Text(0.5, 1.0, 'Logistic Function for Different $\\\\beta$')"
            ]
          },
          "metadata": {
            "tags": []
          },
          "execution_count": 43
        },
        {
          "output_type": "display_data",
          "data": {
            "image/png": "[encoded data removed]",
            "text/plain": [
              "<Figure size 864x216 with 1 Axes>"
            ]
          },
          "metadata": {
            "tags": [],
            "needs_background": "light"
          }
        }
      ]
    },
    {
      "cell_type": "markdown",
      "metadata": {
        "id": "9M7qvgS-FVDE"
      },
      "source": [
        "The issue with the standard logistic function is that it's inflection point is at 0: it changes near zero. But in our O-ring data, we can visualize a logistic function changing near 65 or 70. So we add an offset to the logistic function.\r\n",
        "\r\n",
        "$p(t) = \\frac{1}{1 + e^{\\beta t + \\alpha}}$"
      ]
    },
    {
      "cell_type": "code",
      "metadata": {
        "id": "OFuYqKAdGiJA"
      },
      "source": [
        "def logistic(x, beta, alpha = 0):\r\n",
        "  return 1.0 / (1.0 + np.exp(np.dot(beta, x) + alpha))"
      ],
      "execution_count": null,
      "outputs": []
    },
    {
      "cell_type": "code",
      "metadata": {
        "colab": {
          "base_uri": "https://localhost:8080/",
          "height": 261
        },
        "id": "1HygAfwuGpaZ",
        "outputId": "76509f83-2db2-4a90-ae17-bd49980af048"
      },
      "source": [
        "x = np.linspace(-4, 4, 100)\r\n",
        "\r\n",
        "my_betas = [1, 3, -5, 1, 3, -5]\r\n",
        "my_alphas = [0, 0, 0, 1, -2, 7]\r\n",
        "\r\n",
        "for my_beta, my_alpha in zip(my_betas, my_alphas):\r\n",
        "  plot_label = rf\"$\\beta = {my_beta:.2f}, \\alpha = {my_alpha:.2f}$\"\r\n",
        "  plt.plot(x, logistic(x, beta = my_beta, alpha = my_alpha), label = plot_label)\r\n",
        "\r\n",
        "plt.xlabel('$x$')\r\n",
        "plt.ylabel('$logistic$')\r\n",
        "plt.legend()\r\n",
        "plt.title(r'Effect of $\\alpha$ and $\\beta$ on logistic function')"
      ],
      "execution_count": null,
      "outputs": [
        {
          "output_type": "execute_result",
          "data": {
            "text/plain": [
              "Text(0.5, 1.0, 'Effect of $\\\\alpha$ and $\\\\beta$ on logistic function')"
            ]
          },
          "metadata": {
            "tags": []
          },
          "execution_count": 45
        },
        {
          "output_type": "display_data",
          "data": {
            "image/png": "[encoded data removed]",
            "text/plain": [
              "<Figure size 864x216 with 1 Axes>"
            ]
          },
          "metadata": {
            "tags": [],
            "needs_background": "light"
          }
        }
      ]
    },
    {
      "cell_type": "markdown",
      "metadata": {
        "id": "q0xYiLxAHUhH"
      },
      "source": [
        "So adding $\\alpha$ shifts the curve left or right, which is why it is called a bias. "
      ]
    },
    {
      "cell_type": "markdown",
      "metadata": {
        "id": "no9YsLl8I4TS"
      },
      "source": [
        "## The Normal Distribution\r\n",
        "\r\n",
        "$\\alpha$ and $\\beta$ have no reason to be extremely large, are not necessarily bounded or positive. So they can be modeled with a normal distribution. \r\n",
        "\r\n",
        "The normal distribution has two parameters \r\n",
        "- $\\mu$: the mean \r\n",
        "- $\\tau^{-1}$: the reciprocal of $\\sigma^2$. The larger the value of $\\tau$, the tighter the \"spread\" of the distribution. $\\tau$ is always positive. \r\n"
      ]
    },
    {
      "cell_type": "code",
      "metadata": {
        "colab": {
          "base_uri": "https://localhost:8080/",
          "height": 259
        },
        "id": "1ilVH72aJWEE",
        "outputId": "bbbd405e-084a-4e06-fca5-cfe19bc79b98"
      },
      "source": [
        "# Initialize a normal distribution object \r\n",
        "nor = stats.norm \r\n",
        "\r\n",
        "# `x` is the domain of values for which we will plot the logistic function\r\n",
        "x = np.linspace(-8, 7, 150)\r\n",
        "\r\n",
        "# Different parameters for normal distributions along with color codes\r\n",
        "mu = (-2, 0, 3)\r\n",
        "tau = (0.7, 1, 2.8)\r\n",
        "colors = ['#348ABD', '#A60628', '#7A68A6']\r\n",
        "\r\n",
        "# Make each combination a single tuple\r\n",
        "parameters = zip(mu, tau, colors)\r\n",
        "\r\n",
        "# For each combo of mean, tau, and color, make a plot\r\n",
        "for _mu, _tau, _color in parameters:\r\n",
        "  plt.plot(x, nor.pdf(x, _mu, scale = 1./_tau), \r\n",
        "           label = '$\\mu = %d,\\; \\\\tau = %.1f$' % (_mu, _tau), color = _color)\r\n",
        "  plt.fill_between(x, nor.pdf(x, _mu, scale = 1./_tau), color = _color, \r\n",
        "                   alpha = 0.33)\r\n",
        "  \r\n",
        "# Annotate it\r\n",
        "plt.legend(loc = 'upper right')\r\n",
        "plt.xlabel('$x$')\r\n",
        "plt.ylabel('Density Function at $x$')\r\n",
        "plt.title('Probability Distribution of three different normal random variables')"
      ],
      "execution_count": null,
      "outputs": [
        {
          "output_type": "execute_result",
          "data": {
            "text/plain": [
              "Text(0.5, 1.0, 'Probability Distribution of three different normal random variables')"
            ]
          },
          "metadata": {
            "tags": []
          },
          "execution_count": 46
        },
        {
          "output_type": "display_data",
          "data": {
            "image/png": "[encoded data removed]",
            "text/plain": [
              "<Figure size 864x216 with 1 Axes>"
            ]
          },
          "metadata": {
            "tags": [],
            "needs_background": "light"
          }
        }
      ]
    },
    {
      "cell_type": "markdown",
      "metadata": {
        "id": "YmEL9-MgKCSW"
      },
      "source": [
        "## Modeling The Challenger\r\n",
        "To recap \r\n",
        "- the outcome of an O-ring failure is best modeled as a Bernoulli randon variable: there will be only one trial (one launch) parameterized by the probability of failure $p$. \r\n",
        "- we have decided that the probability of O-ring failure $p$ will be modeled by the logistic function $\\frac{1}{1 + e^{\\beta t + \\alpha}}$.\r\n",
        "- the logistic function has two parameters, $\\alpha$ and $\\beta$. \r\n",
        "- $\\alpha$ and $\\beta$ are to be modeled as normal random variables."
      ]
    },
    {
      "cell_type": "code",
      "metadata": {
        "id": "AOjiftf6KxCm"
      },
      "source": [
        "temperature = challenger_data[:, 0]\r\n",
        "defect = challenger_data[:, 1]      "
      ],
      "execution_count": null,
      "outputs": []
    },
    {
      "cell_type": "code",
      "metadata": {
        "colab": {
          "base_uri": "https://localhost:8080/"
        },
        "id": "zVvsQN-VPtry",
        "outputId": "f1ea2e97-f783-4edd-cd9c-19f5371664fe"
      },
      "source": [
        "defect"
      ],
      "execution_count": null,
      "outputs": [
        {
          "output_type": "execute_result",
          "data": {
            "text/plain": [
              "array([0., 1., 0., 0., 0., 0., 0., 0., 1., 1., 1., 0., 0., 1., 0., 0., 0.,\n",
              "       0., 0., 0., 1., 0., 1.])"
            ]
          },
          "metadata": {
            "tags": []
          },
          "execution_count": 56
        }
      ]
    },
    {
      "cell_type": "code",
      "metadata": {
        "id": "IkvXhF9qK2um"
      },
      "source": [
        "with pm.Model() as model:\r\n",
        "  \"\"\"\r\n",
        "  We explicitly initialize beta and alpha to 0. Too large a value of a beta or alpha\r\n",
        "  can make p = 0 or 1. This can cause problems with pm.Bernoulli, since it does\r\n",
        "  not like probabilities of exactly 0 or 1. Initializing these params to 0 means\r\n",
        "  p has a reasonable starting value. It does not affect our results - just a \r\n",
        "  computational caveat for compatibility with PyMC3\r\n",
        "  \"\"\"\r\n",
        "  beta = pm.Normal('beta', mu = 0, tau = 0.001, testval = 0)\r\n",
        "  alpha = pm.Normal('alpha', mu = 0, tau = 0.001, testval = 0)\r\n",
        "\r\n",
        "  # tt is a Theano tensor\r\n",
        "  p = pm.Deterministic('p', 1.0 / (1 + tt.exp(beta * temperature + alpha)))"
      ],
      "execution_count": null,
      "outputs": []
    },
    {
      "cell_type": "code",
      "metadata": {
        "colab": {
          "base_uri": "https://localhost:8080/"
        },
        "id": "i5kQ8MZKN4xg",
        "outputId": "4753a11b-8cfa-4ad1-d537-af274036427f"
      },
      "source": [
        "# Connect the probabilities in `p` with the observations in `defect` through a \r\n",
        "# Bernoulli random variable \r\n",
        "\r\n",
        "with model:\r\n",
        "  observed = pm.Bernoulli('bernoulli_obs', p, observed = defect)\r\n",
        "\r\n",
        "  # MCMC \r\n",
        "  start = pm.find_MAP()       # Maximum apriori?\r\n",
        "  step = pm.Metropolis()\r\n",
        "  trace = pm.sample(120 * (10 ** 3), step = step, start = start)\r\n",
        "  burned_trace = trace[10 * (10 **3)::2]"
      ],
      "execution_count": null,
      "outputs": [
        {
          "output_type": "stream",
          "text": [
            "/usr/local/lib/python3.6/dist-packages/pymc3/tuning/starting.py:61: UserWarning: find_MAP should not be used to initialize the NUTS sampler, simply call pymc3.sample() and it will automatically initialize NUTS in a better way.\n",
            "  warnings.warn('find_MAP should not be used to initialize the NUTS sampler, simply call pymc3.sample() and it will automatically initialize NUTS in a better way.')\n",
            "logp = -19.024, ||grad|| = 9.9071: 100%|██████████| 27/27 [00:00<00:00, 1376.22it/s]  \n",
            "Sequential sampling (2 chains in 1 job)\n",
            "CompoundStep\n",
            ">Metropolis: [alpha]\n",
            ">Metropolis: [beta]\n",
            "100%|██████████| 120500/120500 [00:34<00:00, 3476.17it/s]\n",
            "100%|██████████| 120500/120500 [00:33<00:00, 3639.34it/s]\n",
            "The estimated number of effective samples is smaller than 200 for some parameters.\n"
          ],
          "name": "stderr"
        }
      ]
    },
    {
      "cell_type": "markdown",
      "metadata": {
        "id": "Wjl6BGf1Oenh"
      },
      "source": [
        "Now that we have trained our model on the observed data, we can sample from the posterior distributions for $\\alpha$ and $\\beta$, and then use these distributions to derive $p$."
      ]
    },
    {
      "cell_type": "code",
      "metadata": {
        "id": "YZt7AO9pORZd"
      },
      "source": [
        "alpha_samples = burned_trace['alpha'][:, None]      # Best to make samples 1-D\r\n",
        "beta_samples = burned_trace['beta'][:, None]"
      ],
      "execution_count": null,
      "outputs": []
    },
    {
      "cell_type": "code",
      "metadata": {
        "colab": {
          "base_uri": "https://localhost:8080/",
          "height": 435
        },
        "id": "Pd1oSD-vOwgC",
        "outputId": "028a34a1-b261-4c14-9af2-f258250ca09e"
      },
      "source": [
        "# Plot the posterior distributions for apha and beta \r\n",
        "figsize(12.5, 6)\r\n",
        "\r\n",
        "# Beta\r\n",
        "plt.subplot(211)\r\n",
        "plt.hist(beta_samples, histtype = 'stepfilled', bins = 35, alpha = 0.85, \r\n",
        "         label = r'Posterior of $\\beta$', color = '#7A68A6', density = True)\r\n",
        "plt.legend()\r\n",
        "\r\n",
        "# Alpha\r\n",
        "plt.subplot(212)\r\n",
        "plt.hist(alpha_samples, histtype = 'stepfilled', bins = 35, alpha = 0.85, \r\n",
        "         label = r'Posterior of $\\alpha$', color = '#A60628', density = True)\r\n",
        "\r\n",
        "plt.suptitle(r'Posterior Distributions of the Variables $\\alpha$, $\\beta$')\r\n",
        "plt.legend()"
      ],
      "execution_count": null,
      "outputs": [
        {
          "output_type": "execute_result",
          "data": {
            "text/plain": [
              "<matplotlib.legend.Legend at 0x7f9ef0530e10>"
            ]
          },
          "metadata": {
            "tags": []
          },
          "execution_count": 60
        },
        {
          "output_type": "display_data",
          "data": {
            "image/png": "[encoded data removed]",
            "text/plain": [
              "<Figure size 900x432 with 2 Axes>"
            ]
          },
          "metadata": {
            "tags": [],
            "needs_background": "light"
          }
        }
      ]
    },
    {
      "cell_type": "markdown",
      "metadata": {
        "id": "ZHPfM1GuPVYR"
      },
      "source": [
        "## Posterior Analysis\r\n",
        "- The posterior distributions for both parameters have a very large spread, so we can't be very certain about the \"true\" value of these parameters. \r\n",
        "- Almost all of the density for $\\alpha$ lies below 0: $\\alpha$ is most likely a negative parameter. \r\n",
        "- Almost all of the density for $\\beta$ lies above 0: $\\beta$ is therefore likely to be a positive parameter. \r\n",
        "- Had $\\beta$ been centered around 0, we could have assumed that temperature has no effect on defect rate."
      ]
    },
    {
      "cell_type": "markdown",
      "metadata": {
        "id": "jAsmGcXePcBu"
      },
      "source": [
        "## Predicting $p$ \r\n",
        "\r\n",
        "Now that we have distributions for $\\alpha$ and $\\beta$, we can make a distribution for $p$ - the probability of a defect in the O-ring for all values of $alpha$ and $\\beta$. \r\n",
        "\r\n",
        "We will average over all samples from the posterior to get a likely value for $p(t_i)$ where $t_i$ is the temperature on the $i^{th}$ day."
      ]
    },
    {
      "cell_type": "code",
      "metadata": {
        "id": "fk_tPpb9TVXq"
      },
      "source": [
        "# Make a 1-D array of the domain of temperature values to plot probability for\r\n",
        "t = np.linspace(temperature.min() - 5, temperature.max() + 5, 50)[:, None]\r\n",
        "\r\n",
        "# Compute the temperature probability for each temperature for each pair of alpha, beta\r\n",
        "p_t = logistic(t.T, beta_samples, alpha_samples)"
      ],
      "execution_count": null,
      "outputs": []
    },
    {
      "cell_type": "code",
      "metadata": {
        "colab": {
          "base_uri": "https://localhost:8080/"
        },
        "id": "UjgCSe0OTpzC",
        "outputId": "dda017a1-f1a0-4061-b8a2-d160c8cd4cf4"
      },
      "source": [
        "# There are 50 temperature measurements. For each of them, we have found the \r\n",
        "# probability of O-ring failure for each pair of alpha, beta drawn from the posterior\r\n",
        "p_t.shape"
      ],
      "execution_count": null,
      "outputs": [
        {
          "output_type": "execute_result",
          "data": {
            "text/plain": [
              "(110000, 50)"
            ]
          },
          "metadata": {
            "tags": []
          },
          "execution_count": 63
        }
      ]
    },
    {
      "cell_type": "code",
      "metadata": {
        "id": "U7TviFsZTrFV"
      },
      "source": [
        "# We can find the expected value of p_t by averging along the columns\r\n",
        "mean_prob_t = p_t.mean(axis = 0)"
      ],
      "execution_count": null,
      "outputs": []
    },
    {
      "cell_type": "code",
      "metadata": {
        "colab": {
          "base_uri": "https://localhost:8080/"
        },
        "id": "SHsbxEQuT-GE",
        "outputId": "cbd7504f-feac-4f5a-bb7d-4ec813429e3f"
      },
      "source": [
        "mean_prob_t.shape       # One expected probability for each temperature"
      ],
      "execution_count": null,
      "outputs": [
        {
          "output_type": "execute_result",
          "data": {
            "text/plain": [
              "(50,)"
            ]
          },
          "metadata": {
            "tags": []
          },
          "execution_count": 65
        }
      ]
    },
    {
      "cell_type": "code",
      "metadata": {
        "colab": {
          "base_uri": "https://localhost:8080/",
          "height": 313
        },
        "id": "Q4JeGVdKT_GI",
        "outputId": "4a430562-246f-45c3-8e07-b23458546a9d"
      },
      "source": [
        "figsize(12.5, 4)\r\n",
        "\r\n",
        "plt.plot(t, mean_prob_t, lw = 3, label = 'average posterior $p_{defect}$')\r\n",
        "plt.plot(t, p_t[0, :], linestyle = '--', label = 'posterior realization 01')\r\n",
        "plt.plot(t, p_t[-2, :], linestyle = '--', label = 'prior realization 02')\r\n",
        "plt.scatter(temperature, defect, color = 'k', s = 50, alpha = 0.5)\r\n",
        "plt.title('Posterior expected value of probabilit of defect + realizations')\r\n",
        "plt.legend(loc = 'lower left')\r\n",
        "plt.xlabel('Temperature')\r\n",
        "plt.ylabel('Probability')"
      ],
      "execution_count": null,
      "outputs": [
        {
          "output_type": "execute_result",
          "data": {
            "text/plain": [
              "Text(0, 0.5, 'Probability')"
            ]
          },
          "metadata": {
            "tags": []
          },
          "execution_count": 75
        },
        {
          "output_type": "display_data",
          "data": {
            "image/png": "[encoded data removed]",
            "text/plain": [
              "<Figure size 900x288 with 1 Axes>"
            ]
          },
          "metadata": {
            "tags": [],
            "needs_background": "light"
          }
        }
      ]
    },
    {
      "cell_type": "markdown",
      "metadata": {
        "id": "brcekKyOUhOG"
      },
      "source": [
        "A posterior realization is simply a set of predicted probabilities of failure $p$ for each draw of $\\alpha$ and $\\beta$ from the posterior distribution. \r\n",
        "\r\n",
        "The first posterior realization is very similar to the average posterior, while the second last is very dissimilar: almost linear. \r\n",
        "\r\n",
        "According to the book, either realization is as likely as the other. \r\n",
        "\r\n",
        "The blue solid line is what we get when we average over all 20,000 possible dotted lines. "
      ]
    },
    {
      "cell_type": "markdown",
      "metadata": {
        "id": "6RwGdsisVZV5"
      },
      "source": [
        "## Confidence Intervals \r\n",
        "\r\n",
        "At what temperatures are we most uncertain about the defect-probability? \r\n",
        "\r\n",
        "To visualize this, we plot the expected value **and** the associated 95% intervals for each temperature."
      ]
    },
    {
      "cell_type": "code",
      "metadata": {
        "id": "IS3AiFThXVlf"
      },
      "source": [
        "from scipy.stats.mstats import mquantiles"
      ],
      "execution_count": null,
      "outputs": []
    },
    {
      "cell_type": "code",
      "metadata": {
        "colab": {
          "base_uri": "https://localhost:8080/",
          "height": 301
        },
        "id": "o2T7S8DaXaY6",
        "outputId": "b6543c05-b263-44bd-88b8-d426e10f1bde"
      },
      "source": [
        "# Vectorized bottm and top 2.5% quantiles for 'confidence interval' (credible interval?)\r\n",
        "qs = mquantiles(p_t, [0.025, 0.975], axis = 0)\r\n",
        "plt.fill_between(t[:, 0], *qs, alpha = 0.7, color = '#7A68A6')\r\n",
        "plt.plot(t[:, 0], qs[0], label = '95% CI', color = '#7A68A6', alpha = 0.7)\r\n",
        "plt.plot(t, mean_prob_t, lw = 1, ls = '--', color = 'k', \r\n",
        "         label = 'average posterior $p_{defect}$')\r\n",
        "plt.xlim(t.min(), t.max())\r\n",
        "plt.ylim(-0.02, 1.02)\r\n",
        "plt.legend(loc = 'lower left')\r\n",
        "plt.scatter(temperature, defect, color = 'k', s = 50, alpha = 0.5)\r\n",
        "plt.xlabel('Temperature $t$')\r\n",
        "plt.ylabel('Probability Estimate')\r\n",
        "plt.title('Posteriro Probability Estimates given Temperature $t$')\r\n",
        "\r\n",
        "plt.grid()"
      ],
      "execution_count": null,
      "outputs": [
        {
          "output_type": "display_data",
          "data": {
            "image/png": "[encoded data removed]",
            "text/plain": [
              "<Figure size 900x288 with 1 Axes>"
            ]
          },
          "metadata": {
            "tags": [],
            "needs_background": "light"
          }
        }
      ]
    },
    {
      "cell_type": "markdown",
      "metadata": {
        "id": "Z_7w7V9TYE3G"
      },
      "source": [
        "The 95% credible interval is coloured in purple, and represents the interval of probabilities that contains 95% of the distribution. \r\n",
        "\r\n",
        "What this means is that for a temperature like 65 degrees, we can be 95% sure that the \"true\" probability of defect lies between 0.22 and 0.80. \r\n",
        "\r\n",
        "This is useful information because we can tell that we are most uncertain about the probability of defect at lower temperatures between 60 - 65. It might be worthwhile to test O-rings at temperatures in that range to get more data and thus better estimate of probabilities in that range. "
      ]
    },
    {
      "cell_type": "markdown",
      "metadata": {
        "id": "uAC1qXJhY8NH"
      },
      "source": [
        "## Challenger Inference\r\n",
        "\r\n",
        "We can now use our model to predict the probability of an O-Ring failure on the day of the Challenger disaster: when the temperature was 31 degrees."
      ]
    },
    {
      "cell_type": "code",
      "metadata": {
        "colab": {
          "base_uri": "https://localhost:8080/"
        },
        "id": "8P4CAKT6ZEqC",
        "outputId": "30571841-032c-4046-f9bb-466028f58492"
      },
      "source": [
        "# Once again, for all 110k samples of beta and alpha, we can predict a probability\r\n",
        "prob_at_31_deg = logistic(x = 31, beta = beta_samples, alpha = alpha_samples)\r\n",
        "prob_at_31_deg.shape"
      ],
      "execution_count": null,
      "outputs": [
        {
          "output_type": "execute_result",
          "data": {
            "text/plain": [
              "(110000, 1)"
            ]
          },
          "metadata": {
            "tags": []
          },
          "execution_count": 82
        }
      ]
    },
    {
      "cell_type": "code",
      "metadata": {
        "colab": {
          "base_uri": "https://localhost:8080/",
          "height": 301
        },
        "id": "ixTyXfvfZOlG",
        "outputId": "0faafb72-85e3-4ceb-c6df-7a6c570252d9"
      },
      "source": [
        "# Plot the distribution of the predicted probabilities \r\n",
        "plt.xlim(0.995, 1)\r\n",
        "plt.hist(prob_at_31_deg, bins = 10000, density = True, histtype = 'stepfilled')\r\n",
        "plt.title('Posterior Distribution of $p_{defect}$ Given $t = 31$')\r\n",
        "plt.xlabel('Posterior Probability of O-Ring Defect $p_{defect}$')\r\n",
        "plt.grid()"
      ],
      "execution_count": null,
      "outputs": [
        {
          "output_type": "display_data",
          "data": {
            "image/png": "[encoded data removed]",
            "text/plain": [
              "<Figure size 900x288 with 1 Axes>"
            ]
          },
          "metadata": {
            "tags": [],
            "needs_background": "light"
          }
        }
      ]
    },
    {
      "cell_type": "markdown",
      "metadata": {
        "id": "FzG4Ap0YZzUz"
      },
      "source": [
        "Based on our statistical model, it looks like an O-ring failure was almost certain on the day of the challenger disaster. "
      ]
    },
    {
      "cell_type": "markdown",
      "metadata": {
        "id": "TnyX1t7qaQ7Q"
      },
      "source": [
        "# Goodness of Fit \r\n",
        "- We could have chosen a function $p(t) = 1~\\forall t$ that would have also predicted O-ring failure, regardless of $\\alpha$ or $\\beta$. \r\n",
        "- We could also have chosen a different prior for $\\alpha$ of $\\beta$ that had lower deviation around 0. \r\n",
        "- But to choose a \"correct\" model, we have to use a measure of \"goodness of fit\".\r\n",
        "- If our model is correct, then working backwards, any data we generate from this model should be similar to observed data.\r\n",
        "- More specifically, we sample from the posterior distribution to create a **stochastic variable** representing our data generating process. \r\n",
        "- We do this by creating a new model that is exactly the same as our old model, but without the data/`obs`."
      ]
    },
    {
      "cell_type": "code",
      "metadata": {
        "colab": {
          "base_uri": "https://localhost:8080/"
        },
        "id": "AAKOAzTKbnbx",
        "outputId": "a5e5d138-56b1-4bd2-efd3-78d043fab0ea"
      },
      "source": [
        "# Number of samples to draw from the posterior\r\n",
        "N = 10000\r\n",
        "\r\n",
        "with pm.Model() as model:\r\n",
        "  # We beging by respecifying our model\r\n",
        "  # Alpha and beta are parameters of a logistic function and are normally distributed\r\n",
        "  beta = pm.Normal('beta', mu = 0, tau = 0.001, testval = 0)\r\n",
        "  alpha = pm.Normal('alpha', mu = 0, tau = 0.001, testval = 0)\r\n",
        "\r\n",
        "  # The probability of defect is paramerized by alpha and beta with the logistic function\r\n",
        "  p = pm.Deterministic('p', 1.0 / (1.0 + tt.exp(beta * temperature + alpha)))\r\n",
        "\r\n",
        "  # This is the \"true\" data of O-ring defects\r\n",
        "  observed = pm.Bernoulli('bernoulli_obs', p, observed = defect)\r\n",
        "\r\n",
        "  # This is the \"simulated\" data of O-ring defects. \r\n",
        "  simulated = pm.Bernoulli('bernoulli_simulated', p, shape = p.tag.test_value.shape)\r\n",
        "  step = pm.Metropolis(vars = [p])\r\n",
        "  trace = pm.sample(N, step = step)"
      ],
      "execution_count": null,
      "outputs": [
        {
          "output_type": "stream",
          "text": [
            "Sequential sampling (2 chains in 1 job)\n",
            "CompoundStep\n",
            ">CompoundStep\n",
            ">>Metropolis: [beta]\n",
            ">>Metropolis: [alpha]\n",
            ">BinaryGibbsMetropolis: [bernoulli_simulated]\n",
            "100%|██████████| 10500/10500 [00:18<00:00, 583.04it/s]\n",
            "100%|██████████| 10500/10500 [00:19<00:00, 547.78it/s]\n",
            "The gelman-rubin statistic is larger than 1.4 for some parameters. The sampler did not converge.\n",
            "The estimated number of effective samples is smaller than 200 for some parameters.\n"
          ],
          "name": "stderr"
        }
      ]
    },
    {
      "cell_type": "code",
      "metadata": {
        "colab": {
          "base_uri": "https://localhost:8080/"
        },
        "id": "1r9K0kvVcg5-",
        "outputId": "b04b4933-99bf-4f8b-a5cd-42fb0397cb7e"
      },
      "source": [
        "# Extract the simulations data - note how we now have 23-dimensional data \r\n",
        "# instead of 50-dimensional data. Each row represents the simulated defect flag \r\n",
        "# for each of the 20k samples we have drawn from the posterior.\r\n",
        "simulations = trace['bernoulli_simulated']\r\n",
        "print(simulations.shape)"
      ],
      "execution_count": null,
      "outputs": [
        {
          "output_type": "stream",
          "text": [
            "(20000, 23)\n"
          ],
          "name": "stdout"
        }
      ]
    },
    {
      "cell_type": "code",
      "metadata": {
        "colab": {
          "base_uri": "https://localhost:8080/",
          "height": 375
        },
        "id": "-hmBnqdScrFl",
        "outputId": "3da4b50b-0502-4df6-dc34-348c7afd1b4c"
      },
      "source": [
        "plt.title('Simulated Dataset Using Posterior Parameters')\r\n",
        "figsize(12.5, 6)\r\n",
        "for i in range(4):\r\n",
        "  # Four rows, one column - increment row number \r\n",
        "  ax = plt.subplot(4, 1, i + 1)\r\n",
        "\r\n",
        "  # Plot the 1000th, 2000th, 3000th, and 4000th sampling of the simulated defect flags\r\n",
        "  plt.scatter(temperature, simulations[1000 * i, :], color = 'k', \r\n",
        "              s = 50, alpha = 0.6)"
      ],
      "execution_count": null,
      "outputs": [
        {
          "output_type": "display_data",
          "data": {
            "image/png": "[encoded data removed]",
            "text/plain": [
              "<Figure size 900x432 with 4 Axes>"
            ]
          },
          "metadata": {
            "tags": [],
            "needs_background": "light"
          }
        }
      ]
    },
    {
      "cell_type": "markdown",
      "metadata": {
        "id": "FrsKlyVUdVd2"
      },
      "source": [
        "For each data point in our defects data, find the posterior probability of a defect by computing the proportion of times the posterior simulation proposed a value for 1 for a particular temperature i.e. $P(Defect = 1 | \\alpha, \\beta, t)$."
      ]
    },
    {
      "cell_type": "code",
      "metadata": {
        "id": "wDYaDyKKiDxp"
      },
      "source": [
        "posterior_probability = simulations.mean(axis = 0)"
      ],
      "execution_count": null,
      "outputs": []
    },
    {
      "cell_type": "code",
      "metadata": {
        "colab": {
          "base_uri": "https://localhost:8080/"
        },
        "id": "dSdEIhLWiJb3",
        "outputId": "33ddd5af-09e3-4851-9cb4-dad915546f94"
      },
      "source": [
        "print(\"Posterior Probability of Defect | Realized Defect\")\r\n",
        "for i in range(len(defect)):\r\n",
        "  print(f\"{posterior_probability[i]:.2f}\\t\\t\\t\\t|\\t{defect[i]}\")"
      ],
      "execution_count": null,
      "outputs": [
        {
          "output_type": "stream",
          "text": [
            "Posterior Probability of Defect | Realized Defect\n",
            "0.44\t\t\t\t|\t0.0\n",
            "0.23\t\t\t\t|\t1.0\n",
            "0.27\t\t\t\t|\t0.0\n",
            "0.32\t\t\t\t|\t0.0\n",
            "0.38\t\t\t\t|\t0.0\n",
            "0.15\t\t\t\t|\t0.0\n",
            "0.13\t\t\t\t|\t0.0\n",
            "0.22\t\t\t\t|\t0.0\n",
            "0.81\t\t\t\t|\t1.0\n",
            "0.61\t\t\t\t|\t1.0\n",
            "0.23\t\t\t\t|\t1.0\n",
            "0.06\t\t\t\t|\t0.0\n",
            "0.38\t\t\t\t|\t0.0\n",
            "0.88\t\t\t\t|\t1.0\n",
            "0.38\t\t\t\t|\t0.0\n",
            "0.10\t\t\t\t|\t0.0\n",
            "0.23\t\t\t\t|\t0.0\n",
            "0.05\t\t\t\t|\t0.0\n",
            "0.09\t\t\t\t|\t0.0\n",
            "0.05\t\t\t\t|\t0.0\n",
            "0.09\t\t\t\t|\t1.0\n",
            "0.08\t\t\t\t|\t0.0\n",
            "0.79\t\t\t\t|\t1.0\n"
          ],
          "name": "stdout"
        }
      ]
    },
    {
      "cell_type": "code",
      "metadata": {
        "colab": {
          "base_uri": "https://localhost:8080/"
        },
        "id": "wAV3GJOYiYTa",
        "outputId": "87a9e19d-5c61-4acf-f55c-06861452da77"
      },
      "source": [
        "!wget \"https://raw.githubusercontent.com/CamDavidsonPilon/Probabilistic-Programming-and-Bayesian-Methods-for-Hackers/master/Chapter2_MorePyMC/separation_plot.py\""
      ],
      "execution_count": null,
      "outputs": [
        {
          "output_type": "stream",
          "text": [
            "--2021-02-16 20:33:33--  https://raw.githubusercontent.com/CamDavidsonPilon/Probabilistic-Programming-and-Bayesian-Methods-for-Hackers/master/Chapter2_MorePyMC/separation_plot.py\n",
            "Resolving raw.githubusercontent.com (raw.githubusercontent.com)... 185.199.108.133, 185.199.109.133, 185.199.110.133, ...\n",
            "Connecting to raw.githubusercontent.com (raw.githubusercontent.com)|185.199.108.133|:443... connected.\n",
            "HTTP request sent, awaiting response... 200 OK\n",
            "Length: 1374 (1.3K) [text/plain]\n",
            "Saving to: ‘separation_plot.py’\n",
            "\n",
            "separation_plot.py  100%[===================>]   1.34K  --.-KB/s    in 0s      \n",
            "\n",
            "2021-02-16 20:33:33 (47.2 MB/s) - ‘separation_plot.py’ saved [1374/1374]\n",
            "\n"
          ],
          "name": "stdout"
        }
      ]
    },
    {
      "cell_type": "code",
      "metadata": {
        "id": "oI5U6NvQjFmX"
      },
      "source": [
        "from separation_plot import separation_plot"
      ],
      "execution_count": null,
      "outputs": []
    },
    {
      "cell_type": "code",
      "metadata": {
        "colab": {
          "base_uri": "https://localhost:8080/",
          "height": 118
        },
        "id": "idujnBSvjJcV",
        "outputId": "5543505c-3adb-43aa-cd5b-b8b663b95b1e"
      },
      "source": [
        "figsize(11., 1.5)\r\n",
        "separation_plot(posterior_probability, defect)"
      ],
      "execution_count": null,
      "outputs": [
        {
          "output_type": "display_data",
          "data": {
            "image/png": "[encoded data removed]",
            "text/plain": [
              "<Figure size 792x108 with 1 Axes>"
            ]
          },
          "metadata": {
            "tags": [],
            "needs_background": "light"
          }
        }
      ]
    },
    {
      "cell_type": "markdown",
      "metadata": {
        "id": "1W_P5It-jWL4"
      },
      "source": [
        "As the posterior probability of defect - denoted by the black line - rises, so, too, does the frequncy of true observed defects i.e. blue bars. \r\n",
        "\r\n",
        "Ideally, all the blue bars should be on the right of the plot i.e. in regions where the posterior probability of defect increases. \r\n",
        "\r\n",
        "Blue bars earlier in the plot are regions where a defect was observed in the \"true\" data but the posterior probability of a defect was not necessarily high. These are missed predictions. \r\n",
        "\r\n",
        "The black line is the expected number of dects we should observe given this specific model. \r\n",
        "\r\n",
        "It is more useful to generate such plots for multiple models."
      ]
    },
    {
      "cell_type": "code",
      "metadata": {
        "colab": {
          "base_uri": "https://localhost:8080/",
          "height": 427
        },
        "id": "4VGiteGCkwfB",
        "outputId": "d1261e44-ec20-4469-dff7-416d98874d4e"
      },
      "source": [
        "figsize(11., 1.25)\r\n",
        "\r\n",
        "# Our temperature dependent model \r\n",
        "separation_plot(posterior_probability, defect)\r\n",
        "plt.title('Temperature Dependent Model')\r\n",
        "\r\n",
        "# Perfect model i.e. the probability of defect is equal to if a defect occurred or not \r\n",
        "p = defect \r\n",
        "separation_plot(p, defect)\r\n",
        "plt.title('Perfect Model')\r\n",
        "\r\n",
        "# Random Predictions\r\n",
        "p = np.random.rand(23)\r\n",
        "separation_plot(p, defect)\r\n",
        "plt.title('Random Model')\r\n",
        "\r\n",
        "# Constant Model\r\n",
        "constant_prob = 7. / 23 * np.ones(23)   # 7 defects, 23 observations \r\n",
        "separation_plot(constant_prob, defect)\r\n",
        "plt.title('Constant-Prediction Model')"
      ],
      "execution_count": null,
      "outputs": [
        {
          "output_type": "execute_result",
          "data": {
            "text/plain": [
              "Text(0.5, 1.0, 'Constant-Prediction Model')"
            ]
          },
          "metadata": {
            "tags": []
          },
          "execution_count": 108
        },
        {
          "output_type": "display_data",
          "data": {
            "image/png": "[encoded data removed]",
            "text/plain": [
              "<Figure size 792x90 with 1 Axes>"
            ]
          },
          "metadata": {
            "tags": [],
            "needs_background": "light"
          }
        },
        {
          "output_type": "display_data",
          "data": {
            "image/png": "[encoded data removed]",
            "text/plain": [
              "<Figure size 792x90 with 1 Axes>"
            ]
          },
          "metadata": {
            "tags": [],
            "needs_background": "light"
          }
        },
        {
          "output_type": "display_data",
          "data": {
            "image/png": "[encoded data removed]",
            "text/plain": [
              "<Figure size 792x90 with 1 Axes>"
            ]
          },
          "metadata": {
            "tags": [],
            "needs_background": "light"
          }
        },
        {
          "output_type": "display_data",
          "data": {
            "image/png": "[encoded data removed]",
            "text/plain": [
              "<Figure size 792x90 with 1 Axes>"
            ]
          },
          "metadata": {
            "tags": [],
            "needs_background": "light"
          }
        }
      ]
    }
  ]
}